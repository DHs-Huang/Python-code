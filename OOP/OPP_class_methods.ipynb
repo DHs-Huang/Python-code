{
 "cells": [
  {
   "cell_type": "markdown",
   "id": "0a0e2820",
   "metadata": {
    "slideshow": {
     "slide_type": "slide"
    },
    "toc": true
   },
   "source": [
    "<h1>Table of Contents<span class=\"tocSkip\"></span></h1>\n",
    "<div class=\"toc\"><ul class=\"toc-item\"><li><span><a href=\"#Introduction-of-OPP-class-methods\" data-toc-modified-id=\"Introduction-of-OPP-class-methods-1\"><span class=\"toc-item-num\">1&nbsp;&nbsp;</span>Introduction of OPP class methods</a></span><ul class=\"toc-item\"><li><span><a href=\"#StaticMethods-靜態方法\" data-toc-modified-id=\"StaticMethods-靜態方法-1.1\"><span class=\"toc-item-num\">1.1&nbsp;&nbsp;</span>StaticMethods 靜態方法</a></span></li><li><span><a href=\"#ClassMethods-類方法\" data-toc-modified-id=\"ClassMethods-類方法-1.2\"><span class=\"toc-item-num\">1.2&nbsp;&nbsp;</span>ClassMethods 類方法</a></span></li><li><span><a href=\"#AbstractMethods-抽象方法\" data-toc-modified-id=\"AbstractMethods-抽象方法-1.3\"><span class=\"toc-item-num\">1.3&nbsp;&nbsp;</span>AbstractMethods 抽象方法</a></span></li></ul></li></ul></div>"
   ]
  },
  {
   "cell_type": "markdown",
   "id": "320854b5",
   "metadata": {
    "slideshow": {
     "slide_type": "slide"
    }
   },
   "source": [
    "# Introduction of OPP class methods\n",
    "Python Class 類中的多種方法形式：包含 @staticmethod、 @classmethod 和 @abc.abstractmethod\n",
    "* Static method 靜態方法：不帶實例，不帶 class 為參數的方法\n",
    "* Class method 類方法：不帶實例，帶有 class 為參數的方法\n",
    "* Abstract method 抽象方法：尚未被實作，且繼承 class 一定要用覆寫來實作"
   ]
  },
  {
   "cell_type": "markdown",
   "id": "e1bacabd",
   "metadata": {
    "slideshow": {
     "slide_type": "slide"
    }
   },
   "source": [
    "## StaticMethods 靜態方法\n",
    "StaticMethods 使用方法：\n",
    "在 def 函式上加上 @staticmethod；不用傳入 self 參數  \n",
    " 使用時機：不在需要將 class 實例後才能使用函式"
   ]
  },
  {
   "cell_type": "code",
   "execution_count": 2,
   "id": "d9b32282",
   "metadata": {
    "ExecuteTime": {
     "end_time": "2023-02-02T14:45:14.075896Z",
     "start_time": "2023-02-02T14:45:14.071913Z"
    }
   },
   "outputs": [
    {
     "name": "stdout",
     "output_type": "stream",
     "text": [
      "Sleeping hours : 3\n",
      "Working hours : 4\n",
      "Working hours : 100\n"
     ]
    }
   ],
   "source": [
    "class People_StaticMethods:\n",
    "    def __init__(self):\n",
    "        pass\n",
    " \n",
    "    def sleep(self, sleep_hour):\n",
    "        print('Sleeping hours :', sleep_hour)\n",
    " \n",
    "    @staticmethod\n",
    "    def work(work_hour):\n",
    "        print('Working hours :', work_hour)\n",
    " \n",
    "m = People_StaticMethods()\n",
    "m.sleep(3)\n",
    " \n",
    "People_StaticMethods.work(4) #In general, we prefer use the static methods to print (caculated) values.\n",
    "m.work(100)"
   ]
  },
  {
   "cell_type": "markdown",
   "id": "f0b82294",
   "metadata": {
    "slideshow": {
     "slide_type": "slide"
    }
   },
   "source": [
    "## ClassMethods 類方法\n",
    "在 def 函式上加上 @classmethod必須傳入 class 本身參數，通常大家都會命名為 cls  \n",
    "使用時機：\n",
    "* 不在需要將 class 實例後才能使用函式\n",
    "* 不同於 StaticMethods，因為多引入了 class 本身參數為 cls，可以利用 cls 來 access 其他 class 內的函式"
   ]
  },
  {
   "cell_type": "code",
   "execution_count": 9,
   "id": "ffb4a5c3",
   "metadata": {
    "ExecuteTime": {
     "end_time": "2023-02-02T14:53:11.308879Z",
     "start_time": "2023-02-02T14:53:11.291326Z"
    },
    "slideshow": {
     "slide_type": "slide"
    }
   },
   "outputs": [
    {
     "name": "stdout",
     "output_type": "stream",
     "text": [
      "Working hours : 5\n",
      "Sleeping hours : 6\n"
     ]
    }
   ],
   "source": [
    "class People_ClassMethods:\n",
    "    def __init__(self):\n",
    "        pass\n",
    " \n",
    "    def sleep(self, sleep_hour):\n",
    "        print('Sleeping hours :', sleep_hour)\n",
    " \n",
    "    @classmethod\n",
    "    def work(cls, work_hour):\n",
    "        print('Working hours :', work_hour)\n",
    "        cls().sleep(6) #use the sleep function without generating an object...\n",
    "\n",
    "People_ClassMethods.work(5)"
   ]
  },
  {
   "cell_type": "code",
   "execution_count": 10,
   "id": "7807abad",
   "metadata": {
    "ExecuteTime": {
     "end_time": "2023-02-02T14:53:30.758822Z",
     "start_time": "2023-02-02T14:53:30.752818Z"
    },
    "slideshow": {
     "slide_type": "slide"
    }
   },
   "outputs": [
    {
     "name": "stdout",
     "output_type": "stream",
     "text": [
      "100\n"
     ]
    }
   ],
   "source": [
    "class Test:\n",
    "    number = 100\n",
    "    def __init__(self):\n",
    "        self.aaa = 100\n",
    "    \n",
    "    @classmethod\n",
    "    def print_number(cls):\n",
    "        return cls.number #call the class attribute...\n",
    "    \n",
    "print(Test.print_number())"
   ]
  },
  {
   "cell_type": "markdown",
   "id": "11a9bdca",
   "metadata": {
    "slideshow": {
     "slide_type": "slide"
    }
   },
   "source": [
    "## AbstractMethods 抽象方法\n",
    "* 抽象類 (Employee) 的特點是不能實例化，只能被子類繼承\n",
    "* 任何繼承 Employee 的類，都必須有實現 work 方法，否則會拋出異常"
   ]
  },
  {
   "cell_type": "code",
   "execution_count": 2,
   "id": "907f0c37",
   "metadata": {
    "ExecuteTime": {
     "end_time": "2023-02-04T19:15:41.523284Z",
     "start_time": "2023-02-04T19:15:41.519284Z"
    }
   },
   "outputs": [
    {
     "name": "stdout",
     "output_type": "stream",
     "text": [
      "work\n"
     ]
    }
   ],
   "source": [
    "import abc\n",
    "\n",
    "class Employee(abc.ABC):\n",
    "    @abc.abstractmethod\n",
    "    def work(self):\n",
    "        return NotImplemented\n",
    " \n",
    "class Andy(Employee):\n",
    "    def work(self):\n",
    "        print('work')\n",
    "        \n",
    "Andy().work()"
   ]
  },
  {
   "cell_type": "code",
   "execution_count": 3,
   "id": "2cead24c",
   "metadata": {
    "ExecuteTime": {
     "end_time": "2023-02-04T19:15:42.262549Z",
     "start_time": "2023-02-04T19:15:42.238366Z"
    },
    "slideshow": {
     "slide_type": "slide"
    }
   },
   "outputs": [
    {
     "ename": "TypeError",
     "evalue": "Can't instantiate abstract class Max with abstract method work",
     "output_type": "error",
     "traceback": [
      "\u001b[1;31m---------------------------------------------------------------------------\u001b[0m",
      "\u001b[1;31mTypeError\u001b[0m                                 Traceback (most recent call last)",
      "Cell \u001b[1;32mIn[3], line 4\u001b[0m\n\u001b[0;32m      2\u001b[0m    \u001b[38;5;28;01mdef\u001b[39;00m \u001b[38;5;21msleep\u001b[39m(\u001b[38;5;28mself\u001b[39m):\n\u001b[0;32m      3\u001b[0m        \u001b[38;5;28mprint\u001b[39m(\u001b[38;5;124m'\u001b[39m\u001b[38;5;124msleep\u001b[39m\u001b[38;5;124m'\u001b[39m) \n\u001b[1;32m----> 4\u001b[0m \u001b[43mMax\u001b[49m\u001b[43m(\u001b[49m\u001b[43m)\u001b[49m\u001b[38;5;241m.\u001b[39msleep()\n\u001b[0;32m      5\u001b[0m \u001b[38;5;66;03m#class Max(Employee) 中，只定義了 def sleep(self)，沒有定義 work 方法，\u001b[39;00m\n\u001b[0;32m      6\u001b[0m \u001b[38;5;66;03m#所以再引用時會出現 Can’t instantiate abstractclass Max with abstract methods work 的錯誤。\u001b[39;00m\n",
      "\u001b[1;31mTypeError\u001b[0m: Can't instantiate abstract class Max with abstract method work"
     ]
    }
   ],
   "source": [
    " class Max(Employee):\n",
    "    def sleep(self):\n",
    "        print('sleep') \n",
    "Max().sleep()\n",
    "#class Max(Employee) 中，只定義了 def sleep(self)，沒有定義 work 方法，\n",
    "#所以再引用時會出現 Can’t instantiate abstractclass Max with abstract methods work 的錯誤。"
   ]
  }
 ],
 "metadata": {
  "celltoolbar": "Slideshow",
  "kernelspec": {
   "display_name": "Python 3 (ipykernel)",
   "language": "python",
   "name": "python3"
  },
  "language_info": {
   "codemirror_mode": {
    "name": "ipython",
    "version": 3
   },
   "file_extension": ".py",
   "mimetype": "text/x-python",
   "name": "python",
   "nbconvert_exporter": "python",
   "pygments_lexer": "ipython3",
   "version": "3.9.16"
  },
  "nbTranslate": {
   "displayLangs": [
    "fr",
    "en"
   ],
   "hotkey": "alt-t",
   "langInMainMenu": true,
   "sourceLang": "en",
   "targetLang": "fr",
   "useGoogleTranslate": true
  },
  "toc": {
   "base_numbering": 1,
   "nav_menu": {},
   "number_sections": true,
   "sideBar": true,
   "skip_h1_title": false,
   "title_cell": "Table of Contents",
   "title_sidebar": "Contents",
   "toc_cell": true,
   "toc_position": {},
   "toc_section_display": true,
   "toc_window_display": false
  },
  "varInspector": {
   "cols": {
    "lenName": 16,
    "lenType": 16,
    "lenVar": 40
   },
   "kernels_config": {
    "python": {
     "delete_cmd_postfix": "",
     "delete_cmd_prefix": "del ",
     "library": "var_list.py",
     "varRefreshCmd": "print(var_dic_list())"
    },
    "r": {
     "delete_cmd_postfix": ") ",
     "delete_cmd_prefix": "rm(",
     "library": "var_list.r",
     "varRefreshCmd": "cat(var_dic_list()) "
    }
   },
   "types_to_exclude": [
    "module",
    "function",
    "builtin_function_or_method",
    "instance",
    "_Feature"
   ],
   "window_display": false
  }
 },
 "nbformat": 4,
 "nbformat_minor": 5
}
