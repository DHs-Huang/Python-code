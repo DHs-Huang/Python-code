{
 "cells": [
  {
   "cell_type": "markdown",
   "id": "9376ec80",
   "metadata": {
    "slideshow": {
     "slide_type": "slide"
    },
    "toc": true
   },
   "source": [
    "<h1>Table of Contents<span class=\"tocSkip\"></span></h1>\n",
    "<div class=\"toc\"><ul class=\"toc-item\"><li><span><a href=\"#Object-Oriented-Programming-in-Python\" data-toc-modified-id=\"Object-Oriented-Programming-in-Python-1\"><span class=\"toc-item-num\">1&nbsp;&nbsp;</span>Object Oriented Programming in Python</a></span><ul class=\"toc-item\"><li><span><a href=\"#Property-1---繼承-(inheritance)\" data-toc-modified-id=\"Property-1---繼承-(inheritance)-1.1\"><span class=\"toc-item-num\">1.1&nbsp;&nbsp;</span>Property 1 - 繼承 (inheritance)</a></span></li><li><span><a href=\"#Property-2---封裝-(encapsulation)\" data-toc-modified-id=\"Property-2---封裝-(encapsulation)-1.2\"><span class=\"toc-item-num\">1.2&nbsp;&nbsp;</span>Property 2 - 封裝 (encapsulation)</a></span></li><li><span><a href=\"#Property-3---多型-(polymorphism)\" data-toc-modified-id=\"Property-3---多型-(polymorphism)-1.3\"><span class=\"toc-item-num\">1.3&nbsp;&nbsp;</span>Property 3 - 多型 (polymorphism)</a></span></li><li><span><a href=\"#類的其他呼叫方式\" data-toc-modified-id=\"類的其他呼叫方式-1.4\"><span class=\"toc-item-num\">1.4&nbsp;&nbsp;</span>類的其他呼叫方式</a></span></li><li><span><a href=\"#Inested-classes\" data-toc-modified-id=\"Inested-classes-1.5\"><span class=\"toc-item-num\">1.5&nbsp;&nbsp;</span>Inested classes</a></span></li></ul></li></ul></div>"
   ]
  },
  {
   "cell_type": "markdown",
   "id": "b18f35e6",
   "metadata": {
    "slideshow": {
     "slide_type": "slide"
    }
   },
   "source": [
    "# Object Oriented Programming in Python\n",
    "1. 繼承 (inheritance )\n",
    "2. 封裝 (encapsulation)\n",
    "3. 多型 (polymorphism)"
   ]
  },
  {
   "cell_type": "markdown",
   "id": "e45dfd3b",
   "metadata": {
    "slideshow": {
     "slide_type": "slide"
    }
   },
   "source": [
    "**Define an abstract class and build an instance.**\n",
    "__init__() 是python中的構造函數，在創建物件的時*自動調用*。"
   ]
  },
  {
   "cell_type": "code",
   "execution_count": 1,
   "id": "3ff3b9fa",
   "metadata": {
    "ExecuteTime": {
     "end_time": "2023-02-02T11:13:33.057992Z",
     "start_time": "2023-02-02T11:13:33.050985Z"
    }
   },
   "outputs": [
    {
     "name": "stdout",
     "output_type": "stream",
     "text": [
      "Working: 1\n",
      "1\n"
     ]
    }
   ],
   "source": [
    "class Employee:\n",
    "    \n",
    "    number = 0\n",
    "    \n",
    "    def __init__(self):\n",
    "        self.working_hour = 0 #屬性\n",
    " \n",
    "    def work(self): #方法\n",
    "        self.working_hour += 1\n",
    "        print('Working:', self.working_hour)\n",
    " \n",
    "andy = Employee()  # 類的實例化\n",
    "andy.work() # 呼叫類的方法\n",
    "print(andy.working_hour) # 呼叫類的屬性"
   ]
  },
  {
   "cell_type": "markdown",
   "id": "c9255481",
   "metadata": {
    "slideshow": {
     "slide_type": "slide"
    }
   },
   "source": [
    "**Define attributes in the class or constructer.**"
   ]
  },
  {
   "cell_type": "code",
   "execution_count": 23,
   "id": "a3e8f648",
   "metadata": {
    "ExecuteTime": {
     "end_time": "2023-02-02T11:13:34.124973Z",
     "start_time": "2023-02-02T11:13:34.109410Z"
    },
    "slideshow": {
     "slide_type": "-"
    }
   },
   "outputs": [
    {
     "name": "stdout",
     "output_type": "stream",
     "text": [
      "Max\n",
      "Max__init__\n",
      "Max_sendName\n"
     ]
    }
   ],
   "source": [
    "class ThisTestClass:\n",
    "    getName = 'Max'  #方法一：把屬性定義寫在init外面\n",
    "    number = 0\n",
    "    def __init__(self):\n",
    "        self.getNameFromInit = 'Max__init__'  #方法二：把屬性定義寫在init內\n",
    "    \n",
    "task = ThisTestClass()\n",
    "task.sendName = 'Max_sendName'  ##方法三：自己給屬性與參數\n",
    "\n",
    "print(task.getName)\n",
    "print(task.getNameFromInit)\n",
    "print(task.sendName)"
   ]
  },
  {
   "cell_type": "markdown",
   "id": "52ea0c34",
   "metadata": {
    "slideshow": {
     "slide_type": "slide"
    }
   },
   "source": [
    "## Property 1 - 繼承 (inheritance)\n",
    "子類別繼承父類別的公有屬性與方法，同時也可以也擁有自己的屬性與方法。  \n",
    "公有方法與定義在\\_\\_init__外的屬性會被直接繼承，init內的需要經由super().\\_\\_init__() 就是調用父類的init方法。  \n",
    "同樣可以使用super()去調用父類的其他方法。  "
   ]
  },
  {
   "cell_type": "code",
   "execution_count": 17,
   "id": "306f71ad",
   "metadata": {
    "ExecuteTime": {
     "end_time": "2023-02-02T11:13:35.465895Z",
     "start_time": "2023-02-02T11:13:35.458335Z"
    },
    "slideshow": {
     "slide_type": "subslide"
    }
   },
   "outputs": [
    {
     "name": "stdout",
     "output_type": "stream",
     "text": [
      "==getDetals==\n",
      "cut_tree: 3\n",
      "Employee_instance: True\n",
      "gold: 1\n"
     ]
    }
   ],
   "source": [
    "class Employee:\n",
    "    \n",
    "    Employee_instance = True\n",
    "    \n",
    "    def __init__(self):\n",
    "        self.cut_tree = 3\n",
    " \n",
    "class Andy(Employee):\n",
    "    def __init__(self, get_gold):\n",
    "        super().__init__() #super().__init__() 就是調用父類的init方法， 同樣可以使用super()去調用父類的其他方法      \n",
    "\n",
    "        self.get_gold = get_gold\n",
    " \n",
    "    def getDetials(self):\n",
    "        print('==getDetals==')\n",
    "        if 'cut_tree' in self.__dir__():    \n",
    "            print('cut_tree:', self.cut_tree)\n",
    "        if 'Employee_instance' in self.__dir__():\n",
    "            print('Employee_instance:', self.Employee_instance)\n",
    "        \n",
    "        print('gold:', self.get_gold)\n",
    " \n",
    "if __name__ == \"__main__\":\n",
    "    andy = Andy(1)\n",
    "    andy.getDetials()"
   ]
  },
  {
   "cell_type": "markdown",
   "id": "ec2cae49",
   "metadata": {
    "slideshow": {
     "slide_type": "slide"
    }
   },
   "source": [
    "需要傳遞屬性給父類別"
   ]
  },
  {
   "cell_type": "code",
   "execution_count": 7,
   "id": "d76b5e50",
   "metadata": {
    "ExecuteTime": {
     "end_time": "2023-02-02T11:15:00.110724Z",
     "start_time": "2023-02-02T11:15:00.105724Z"
    }
   },
   "outputs": [
    {
     "name": "stdout",
     "output_type": "stream",
     "text": [
      "==getDetals==\n",
      "tree: 3\n",
      "gold: 1\n",
      "gold: 10\n"
     ]
    }
   ],
   "source": [
    "class Employee:\n",
    "    def __init__(self, grass):\n",
    "        self.cut_tree = 3\n",
    "        self.grass = grass\n",
    " \n",
    "class Andy(Employee):\n",
    "    def __init__(self, get_gold):\n",
    "        super().__init__(10) #call the constructor of the parent (Employee)\n",
    "        self.get_gold = get_gold\n",
    " \n",
    "    def getDetials(self):\n",
    "        print('==getDetals==')\n",
    "        print('tree:', self.cut_tree)\n",
    "        print('gold:', self.get_gold)\n",
    "        print('gold:', self.grass)\n",
    "\n",
    "if __name__ == \"__main__\":\n",
    "    andy = Andy(1)\n",
    "    andy.getDetials()"
   ]
  },
  {
   "cell_type": "markdown",
   "id": "8aa86c90",
   "metadata": {
    "slideshow": {
     "slide_type": "slide"
    }
   },
   "source": [
    "應用super()調用method"
   ]
  },
  {
   "cell_type": "code",
   "execution_count": 18,
   "id": "d1832ec5",
   "metadata": {},
   "outputs": [
    {
     "name": "stdout",
     "output_type": "stream",
     "text": [
      "parent-method...\n",
      "child-method...\n"
     ]
    }
   ],
   "source": [
    "class Employee:\n",
    "    \n",
    "    Employee_instance = True\n",
    "    \n",
    "    def __init__(self):\n",
    "        self.cut_tree = 3\n",
    "    def method_(self):\n",
    "        print('parent-method...')\n",
    " \n",
    "class Andy(Employee):\n",
    "    def __init__(self, get_gold):\n",
    "        super().__init__() #super().__init__() 就是調用父類的init方法， 同樣可以使用super()去調用父類的其他方法      \n",
    "        self.get_gold = get_gold\n",
    "    #New method\n",
    "    \n",
    "    def method_(self): #建立子類別的同名方法；此處隱含了多型的概念\n",
    "        super().method_() #直接使用super調用父類別的方法\n",
    "        print('child-method...')\n",
    "\n",
    "    def getDetials(self):\n",
    "        print('==getDetals==')\n",
    "        if 'cut_tree' in self.__dir__():    \n",
    "            print('cut_tree:', self.cut_tree)\n",
    "        if 'Employee_instance' in self.__dir__():\n",
    "            print('Employee_instance:', self.Employee_instance)\n",
    "        \n",
    "        print('gold:', self.get_gold)\n",
    " \n",
    "if __name__ == \"__main__\":\n",
    "    andy = Andy(1)\n",
    "    andy.method_()\n",
    "    "
   ]
  },
  {
   "cell_type": "markdown",
   "id": "8ea3cd22",
   "metadata": {
    "slideshow": {
     "slide_type": "slide"
    }
   },
   "source": [
    "多重繼承概念\n",
    "這個運行結果是正常的，類C繼承自A,B，而A和B又分別繼承類Base，每一個類的構造函數分別被調用了一次。"
   ]
  },
  {
   "cell_type": "code",
   "execution_count": 15,
   "id": "e1c2ca92",
   "metadata": {},
   "outputs": [
    {
     "name": "stdout",
     "output_type": "stream",
     "text": [
      "enter C\n",
      "enter A\n",
      "enter B\n",
      "enter Base\n",
      "leave Base\n",
      "leave B\n",
      "leave A\n",
      "leave C\n"
     ]
    }
   ],
   "source": [
    "class Base(object):\n",
    "    def __init__(self):\n",
    "        print(\"enter Base\")\n",
    "        print(\"leave Base\")\n",
    "\n",
    "class A(Base):\n",
    "    def __init__(self):\n",
    "        print(\"enter A\")\n",
    "        super(A,self).__init__()\n",
    "        print(\"leave A\")\n",
    "    def print_base(self):\n",
    "        print('A')\n",
    "        \n",
    "class B(Base):\n",
    "    def __init__(self):\n",
    "        print(\"enter B\")\n",
    "        super(B,self).__init__()\n",
    "        print(\"leave B\")\n",
    "    def print_base(self):\n",
    "        print('B')\n",
    "        \n",
    "class C(A,B):\n",
    "    def __init__(self):\n",
    "        print(\"enter C\")\n",
    "        super(C,self).__init__()\n",
    "        print(\"leave C\")\n",
    "\n",
    "c=C()"
   ]
  },
  {
   "cell_type": "markdown",
   "id": "29918c6c",
   "metadata": {
    "slideshow": {
     "slide_type": "slide"
    }
   },
   "source": [
    "Python 會計算出一個方法解析順序（Method Resolution Order, MRO）列表，它代表了類繼承的順序，我們可以使用下面的方式獲得某個類的 MRO 列表"
   ]
  },
  {
   "cell_type": "code",
   "execution_count": 14,
   "id": "11177eb6",
   "metadata": {},
   "outputs": [
    {
     "name": "stdout",
     "output_type": "stream",
     "text": [
      "[<class '__main__.C'>, <class '__main__.A'>, <class '__main__.B'>, <class '__main__.Base'>, <class 'object'>]\n"
     ]
    }
   ],
   "source": [
    "print(C.mro())"
   ]
  },
  {
   "cell_type": "markdown",
   "id": "bf8a5070",
   "metadata": {
    "slideshow": {
     "slide_type": "slide"
    }
   },
   "source": [
    "* 子類永遠在父類前面\n",
    "* 如果有多個父類，會根據它們在清單中的順序被檢查\n",
    "* 如果對下一個類存在兩個合法的選擇，選擇第一個父類"
   ]
  },
  {
   "cell_type": "code",
   "execution_count": 16,
   "id": "88ff4ca3",
   "metadata": {},
   "outputs": [
    {
     "name": "stdout",
     "output_type": "stream",
     "text": [
      "A\n"
     ]
    }
   ],
   "source": [
    "c.print_base()"
   ]
  },
  {
   "cell_type": "markdown",
   "id": "a5dfeccc",
   "metadata": {
    "slideshow": {
     "slide_type": "slide"
    }
   },
   "source": [
    "## Property 2 - 封裝 (encapsulation)\n",
    "隱藏程式實現細節只保留下接口，使程式容易模組化。進一步將會使會使用到@property、dataset的frozen以及底線命名。  \n",
    "1. @protery用法請操考propery.ipynb\n",
    "2. dataset用法請參考add_new_features.ipynb in anotehr folder.\n",
    "3. 底線用法請參考underline_illustratoni.ipynb"
   ]
  },
  {
   "cell_type": "code",
   "execution_count": 2,
   "id": "95a43b73",
   "metadata": {
    "ExecuteTime": {
     "end_time": "2023-02-02T11:23:03.436694Z",
     "start_time": "2023-02-02T11:23:03.416975Z"
    }
   },
   "outputs": [
    {
     "name": "stdout",
     "output_type": "stream",
     "text": [
      "Working\n"
     ]
    },
    {
     "ename": "AttributeError",
     "evalue": "'Employee' object has no attribute '__salary'",
     "output_type": "error",
     "traceback": [
      "\u001b[1;31m---------------------------------------------------------------------------\u001b[0m",
      "\u001b[1;31mAttributeError\u001b[0m                            Traceback (most recent call last)",
      "\u001b[1;32m~\\AppData\\Local\\Temp\\ipykernel_9520\\1738209477.py\u001b[0m in \u001b[0;36m<cell line: 15>\u001b[1;34m()\u001b[0m\n\u001b[0;32m     13\u001b[0m \u001b[0mAndy\u001b[0m\u001b[1;33m.\u001b[0m\u001b[0mwork\u001b[0m\u001b[1;33m(\u001b[0m\u001b[1;33m)\u001b[0m\u001b[1;33m\u001b[0m\u001b[1;33m\u001b[0m\u001b[0m\n\u001b[0;32m     14\u001b[0m \u001b[1;31m###\u001b[0m\u001b[1;33m\u001b[0m\u001b[1;33m\u001b[0m\u001b[0m\n\u001b[1;32m---> 15\u001b[1;33m \u001b[0mAndy\u001b[0m\u001b[1;33m.\u001b[0m\u001b[0m__salary\u001b[0m\u001b[1;33m(\u001b[0m\u001b[1;33m)\u001b[0m \u001b[1;31m#AttributeError\u001b[0m\u001b[1;33m\u001b[0m\u001b[1;33m\u001b[0m\u001b[0m\n\u001b[0m\u001b[0;32m     16\u001b[0m \u001b[0mAndy\u001b[0m\u001b[1;33m.\u001b[0m\u001b[0m__sleep\u001b[0m\u001b[1;33m(\u001b[0m\u001b[1;33m)\u001b[0m \u001b[1;31m#AttributeError\u001b[0m\u001b[1;33m\u001b[0m\u001b[1;33m\u001b[0m\u001b[0m\n",
      "\u001b[1;31mAttributeError\u001b[0m: 'Employee' object has no attribute '__salary'"
     ]
    }
   ],
   "source": [
    "class Employee:\n",
    "    def __init__(self):\n",
    "        self.cut_tree = 3\n",
    "        self.__salary = 1_500_00\n",
    " \n",
    "    def work(self):\n",
    "        print('Working')\n",
    " \n",
    "    def __sleep(self):#採用前雙底線的命名\n",
    "        print('Sleeping')\n",
    "        \n",
    "Andy = Employee()\n",
    "Andy.work()\n",
    "###\n",
    "Andy.__salary() #AttributeError\n",
    "Andy.__sleep() #AttributeError"
   ]
  },
  {
   "cell_type": "markdown",
   "id": "8ddd077e",
   "metadata": {
    "slideshow": {
     "slide_type": "slide"
    }
   },
   "source": [
    "## Property 3 - 多型 (polymorphism)\n",
    "呼叫同名的方法時，會得到不同的結果。\n",
    "\n",
    "* 覆寫(Override)是指子類別可以覆寫父類別的方法內容，使該方法擁有不同於父類別的行為。\n",
    "* 多載(Overload)指在一個類別(class)中，定義多個名稱相同，但參數(Parameter)不同的方法(Method)。不使用語法糖 (裝飾器)的狀況下，python不支援overolad。\n",
    "* Overload issue in Python can be solved by giving a certain decorator, default parameters, and *arg (***kwarg)."
   ]
  },
  {
   "cell_type": "code",
   "execution_count": 5,
   "id": "eeb0f3ce",
   "metadata": {
    "ExecuteTime": {
     "end_time": "2023-02-02T12:35:54.306873Z",
     "start_time": "2023-02-02T12:35:54.297874Z"
    },
    "slideshow": {
     "slide_type": "slide"
    }
   },
   "outputs": [
    {
     "name": "stdout",
     "output_type": "stream",
     "text": [
      "Employee work\n",
      "Employee work\n",
      "Andy work\n",
      "Joy work\n"
     ]
    }
   ],
   "source": [
    "class Employee:\n",
    "    \n",
    "    def work(self, a):\n",
    "        print(a+5)\n",
    "        print('the first one...')\n",
    "    ## python中內建不支援多載(overload)\n",
    "    def work(self):\n",
    "        print('Employee work')\n",
    "    \n",
    "class Andy(Employee):\n",
    "    def work(self):\n",
    "        super().work()\n",
    "        print('Andy work')\n",
    " \n",
    "class Joy(Employee):\n",
    "    def work(self):\n",
    "        print('Joy work')\n",
    "  \n",
    "w = Employee()\n",
    "w1 = Andy()\n",
    "w2 = Joy()\n",
    " \n",
    "w.work()\n",
    "w1.work()\n",
    "w2.work()"
   ]
  },
  {
   "cell_type": "markdown",
   "id": "4fcd4b1f",
   "metadata": {
    "slideshow": {
     "slide_type": "slide"
    }
   },
   "source": [
    "## 類的其他呼叫方式"
   ]
  },
  {
   "cell_type": "code",
   "execution_count": 1,
   "id": "99f426e0",
   "metadata": {
    "ExecuteTime": {
     "end_time": "2023-02-04T19:13:27.796054Z",
     "start_time": "2023-02-04T19:13:27.778055Z"
    }
   },
   "outputs": [
    {
     "name": "stdout",
     "output_type": "stream",
     "text": [
      "這是__doc__資訊\n",
      "<class '__main__.Employee'>\n",
      "{'__module__': '__main__', '__doc__': '這是__doc__資訊', 'work': <function Employee.work at 0x000002B039E3AB80>, '__dict__': <attribute '__dict__' of 'Employee' objects>, '__weakref__': <attribute '__weakref__' of 'Employee' objects>}\n"
     ]
    }
   ],
   "source": [
    "class Employee:\n",
    "    '''這是__doc__資訊'''\n",
    "    def work(self):\n",
    "        print('Employee work')\n",
    " \n",
    "w = Employee()\n",
    " \n",
    "print(w.__doc__)\n",
    "print(w.__class__)\n",
    "print(Employee.__dict__)"
   ]
  },
  {
   "cell_type": "markdown",
   "id": "9dc905db",
   "metadata": {
    "slideshow": {
     "slide_type": "slide"
    }
   },
   "source": [
    "## Inested classes\n",
    "The concept can be useful in certain scenarios where it makes sense to group related classes together. For example, we generate a Car instance, and a related engine information is also implemented by a inner class."
   ]
  },
  {
   "cell_type": "code",
   "execution_count": 1,
   "id": "d8499b40",
   "metadata": {
    "ExecuteTime": {
     "end_time": "2023-02-11T08:31:10.217965Z",
     "start_time": "2023-02-11T08:31:10.213963Z"
    }
   },
   "outputs": [
    {
     "name": "stdout",
     "output_type": "stream",
     "text": [
      "This is an outer method\n",
      "This is an inner method\n"
     ]
    }
   ],
   "source": [
    "class OuterClass: #Car\n",
    "    class InnerClass: #Engine\n",
    "        def inner_method(self):\n",
    "            print(\"This is an inner method\")\n",
    "    \n",
    "    def outer_method(self):\n",
    "        print(\"This is an outer method\")\n",
    "\n",
    "A = OuterClass()\n",
    "A.outer_method()\n",
    "\n",
    "B = A.InnerClass()\n",
    "B.inner_method()"
   ]
  },
  {
   "cell_type": "markdown",
   "id": "bfbdd9b5",
   "metadata": {
    "slideshow": {
     "slide_type": "subslide"
    }
   },
   "source": [
    "In this example, we have defined an OuterClass and an InnerClass inside of it. We can create an instance of OuterClass, and then create an instance of InnerClass through the outer instance."
   ]
  }
 ],
 "metadata": {
  "celltoolbar": "Slideshow",
  "kernelspec": {
   "display_name": "Python 3 (ipykernel)",
   "language": "python",
   "name": "python3"
  },
  "language_info": {
   "codemirror_mode": {
    "name": "ipython",
    "version": 3
   },
   "file_extension": ".py",
   "mimetype": "text/x-python",
   "name": "python",
   "nbconvert_exporter": "python",
   "pygments_lexer": "ipython3",
   "version": "3.9.13"
  },
  "nbTranslate": {
   "displayLangs": [
    "fr",
    "en"
   ],
   "hotkey": "alt-t",
   "langInMainMenu": true,
   "sourceLang": "en",
   "targetLang": "fr",
   "useGoogleTranslate": true
  },
  "toc": {
   "base_numbering": 1,
   "nav_menu": {},
   "number_sections": true,
   "sideBar": true,
   "skip_h1_title": false,
   "title_cell": "Table of Contents",
   "title_sidebar": "Contents",
   "toc_cell": true,
   "toc_position": {},
   "toc_section_display": true,
   "toc_window_display": false
  },
  "varInspector": {
   "cols": {
    "lenName": 16,
    "lenType": 16,
    "lenVar": 40
   },
   "kernels_config": {
    "python": {
     "delete_cmd_postfix": "",
     "delete_cmd_prefix": "del ",
     "library": "var_list.py",
     "varRefreshCmd": "print(var_dic_list())"
    },
    "r": {
     "delete_cmd_postfix": ") ",
     "delete_cmd_prefix": "rm(",
     "library": "var_list.r",
     "varRefreshCmd": "cat(var_dic_list()) "
    }
   },
   "types_to_exclude": [
    "module",
    "function",
    "builtin_function_or_method",
    "instance",
    "_Feature"
   ],
   "window_display": false
  }
 },
 "nbformat": 4,
 "nbformat_minor": 5
}
