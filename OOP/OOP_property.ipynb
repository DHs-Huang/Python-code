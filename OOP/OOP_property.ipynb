{
 "cells": [
  {
   "cell_type": "markdown",
   "id": "20edb4d0",
   "metadata": {
    "slideshow": {
     "slide_type": "slide"
    },
    "toc": true
   },
   "source": [
    "<h1>Table of Contents<span class=\"tocSkip\"></span></h1>\n",
    "<div class=\"toc\"><ul class=\"toc-item\"><li><span><a href=\"#OOP-property-for-encapsulation-(封裝)\" data-toc-modified-id=\"OOP-property-for-encapsulation-(封裝)-1\"><span class=\"toc-item-num\">1&nbsp;&nbsp;</span>OOP property for encapsulation (封裝)</a></span></li><li><span><a href=\"#@property-的實際應用場景\" data-toc-modified-id=\"@property-的實際應用場景-2\"><span class=\"toc-item-num\">2&nbsp;&nbsp;</span>@property 的實際應用場景</a></span></li><li><span><a href=\"#Conclusion\" data-toc-modified-id=\"Conclusion-3\"><span class=\"toc-item-num\">3&nbsp;&nbsp;</span>Conclusion</a></span></li></ul></div>"
   ]
  },
  {
   "cell_type": "markdown",
   "id": "04fe4752",
   "metadata": {
    "slideshow": {
     "slide_type": "slide"
    }
   },
   "source": [
    "# OOP property for encapsulation (封裝)\n",
    "@property 是要實現物件導向中設計中封裝的實現方式\n",
    "* Getter: @property\n",
    "* Setter: @變數名稱.setter\n",
    "* Deleter: @變數名稱.deleter"
   ]
  },
  {
   "cell_type": "code",
   "execution_count": 3,
   "id": "1d432534",
   "metadata": {
    "ExecuteTime": {
     "end_time": "2023-02-02T14:07:13.995820Z",
     "start_time": "2023-02-02T14:07:13.985820Z"
    },
    "collapsed": true
   },
   "outputs": [
    {
     "name": "stdout",
     "output_type": "stream",
     "text": [
      "Working\n"
     ]
    },
    {
     "ename": "AttributeError",
     "evalue": "'Employee' object has no attribute '__sleep'",
     "output_type": "error",
     "traceback": [
      "\u001b[1;31m---------------------------------------------------------------------------\u001b[0m",
      "\u001b[1;31mAttributeError\u001b[0m                            Traceback (most recent call last)",
      "\u001b[1;32m~\\AppData\\Local\\Temp\\ipykernel_12972\\2411915683.py\u001b[0m in \u001b[0;36m<module>\u001b[1;34m\u001b[0m\n\u001b[0;32m     11\u001b[0m \u001b[0mAndy\u001b[0m \u001b[1;33m=\u001b[0m \u001b[0mEmployee\u001b[0m\u001b[1;33m(\u001b[0m\u001b[1;33m)\u001b[0m\u001b[1;33m\u001b[0m\u001b[1;33m\u001b[0m\u001b[0m\n\u001b[0;32m     12\u001b[0m \u001b[0mAndy\u001b[0m\u001b[1;33m.\u001b[0m\u001b[0mwork\u001b[0m\u001b[1;33m(\u001b[0m\u001b[1;33m)\u001b[0m\u001b[1;33m\u001b[0m\u001b[1;33m\u001b[0m\u001b[0m\n\u001b[1;32m---> 13\u001b[1;33m \u001b[0mAndy\u001b[0m\u001b[1;33m.\u001b[0m\u001b[0m__sleep\u001b[0m\u001b[1;33m(\u001b[0m\u001b[1;33m)\u001b[0m \u001b[1;31m#AttributeError\u001b[0m\u001b[1;33m\u001b[0m\u001b[1;33m\u001b[0m\u001b[0m\n\u001b[0m",
      "\u001b[1;31mAttributeError\u001b[0m: 'Employee' object has no attribute '__sleep'"
     ]
    }
   ],
   "source": [
    "class Employee:\n",
    "    def __init__(self):\n",
    "        self.cut_tree = 3\n",
    " \n",
    "    def work(self):\n",
    "        print('Working')\n",
    " \n",
    "    def __sleep(self):\n",
    "        print('Sleeping')\n",
    "        \n",
    "Andy = Employee()\n",
    "Andy.work()\n",
    "Andy.__sleep() #AttributeError"
   ]
  },
  {
   "cell_type": "markdown",
   "id": "ecfec3ba",
   "metadata": {
    "slideshow": {
     "slide_type": "slide"
    }
   },
   "source": [
    "An example: use property decorator to generate getter and setter for a private variable (attribute)"
   ]
  },
  {
   "cell_type": "code",
   "execution_count": 4,
   "id": "45d07849",
   "metadata": {
    "ExecuteTime": {
     "end_time": "2023-02-02T14:12:13.265808Z",
     "start_time": "2023-02-02T14:12:13.240800Z"
    },
    "collapsed": true,
    "slideshow": {
     "slide_type": "-"
    }
   },
   "outputs": [
    {
     "name": "stdout",
     "output_type": "stream",
     "text": [
      "密碼:123\n"
     ]
    },
    {
     "ename": "AttributeError",
     "evalue": "'Bank_acount' object has no attribute 'test'",
     "output_type": "error",
     "traceback": [
      "\u001b[1;31m---------------------------------------------------------------------------\u001b[0m",
      "\u001b[1;31mAttributeError\u001b[0m                            Traceback (most recent call last)",
      "\u001b[1;32m~\\AppData\\Local\\Temp\\ipykernel_12972\\3320781338.py\u001b[0m in \u001b[0;36m<module>\u001b[1;34m\u001b[0m\n\u001b[0;32m      9\u001b[0m \u001b[0mandy\u001b[0m \u001b[1;33m=\u001b[0m \u001b[0mBank_acount\u001b[0m\u001b[1;33m(\u001b[0m\u001b[1;33m)\u001b[0m\u001b[1;33m\u001b[0m\u001b[1;33m\u001b[0m\u001b[0m\n\u001b[0;32m     10\u001b[0m \u001b[0mprint\u001b[0m\u001b[1;33m(\u001b[0m\u001b[0mandy\u001b[0m\u001b[1;33m.\u001b[0m\u001b[0mpassword\u001b[0m\u001b[1;33m)\u001b[0m\u001b[1;33m\u001b[0m\u001b[1;33m\u001b[0m\u001b[0m\n\u001b[1;32m---> 11\u001b[1;33m \u001b[0mprint\u001b[0m\u001b[1;33m(\u001b[0m\u001b[0mandy\u001b[0m\u001b[1;33m.\u001b[0m\u001b[0mtest\u001b[0m\u001b[1;33m)\u001b[0m \u001b[1;31m#'Bank_acount' object has no attribute 'test'\u001b[0m\u001b[1;33m\u001b[0m\u001b[1;33m\u001b[0m\u001b[0m\n\u001b[0m",
      "\u001b[1;31mAttributeError\u001b[0m: 'Bank_acount' object has no attribute 'test'"
     ]
    }
   ],
   "source": [
    "class Bank_acount:\n",
    "    def __init__(self):\n",
    "        self._default_password = '密碼:123'\n",
    "        self._test = 5\n",
    "    @property #Property 立刻就讓資料變成只能取用，不能更新或者刪除 (the function would become a getter.)\n",
    "    def password(self):\n",
    "        return self._default_password\n",
    "\n",
    "andy = Bank_acount()\n",
    "print(andy.password)    \n",
    "print(andy.test) #'Bank_acount' object has no attribute 'test'"
   ]
  },
  {
   "cell_type": "code",
   "execution_count": 19,
   "id": "be17648e",
   "metadata": {
    "ExecuteTime": {
     "end_time": "2023-02-02T14:12:43.158526Z",
     "start_time": "2023-02-02T14:12:43.142963Z"
    },
    "collapsed": true
   },
   "outputs": [
    {
     "ename": "AttributeError",
     "evalue": "can't set attribute",
     "output_type": "error",
     "traceback": [
      "\u001b[1;31m---------------------------------------------------------------------------\u001b[0m",
      "\u001b[1;31mAttributeError\u001b[0m                            Traceback (most recent call last)",
      "\u001b[1;32m~\\AppData\\Local\\Temp\\ipykernel_22500\\2856316998.py\u001b[0m in \u001b[0;36m<module>\u001b[1;34m\u001b[0m\n\u001b[1;32m----> 1\u001b[1;33m \u001b[0mandy\u001b[0m\u001b[1;33m.\u001b[0m\u001b[0mpassword\u001b[0m \u001b[1;33m=\u001b[0m \u001b[1;34m'密碼:456'\u001b[0m \u001b[1;31m#withou seeting a setter.\u001b[0m\u001b[1;33m\u001b[0m\u001b[1;33m\u001b[0m\u001b[0m\n\u001b[0m",
      "\u001b[1;31mAttributeError\u001b[0m: can't set attribute"
     ]
    }
   ],
   "source": [
    "andy.password = '密碼:456' #withou seeting a setter."
   ]
  },
  {
   "cell_type": "markdown",
   "id": "24afe99e",
   "metadata": {
    "slideshow": {
     "slide_type": "slide"
    }
   },
   "source": [
    "Add a setter and deleter based on a getter."
   ]
  },
  {
   "cell_type": "code",
   "execution_count": 5,
   "id": "5f67ef0b",
   "metadata": {
    "ExecuteTime": {
     "end_time": "2023-02-02T14:12:44.861076Z",
     "start_time": "2023-02-02T14:12:44.852528Z"
    }
   },
   "outputs": [],
   "source": [
    "class Bank_acount:\n",
    "    def __init__(self):\n",
    "        self._password = '預設密碼 0000'\n",
    " \n",
    "    @property #getter\n",
    "    def password(self):\n",
    "        return self._password\n",
    " \n",
    "    @password.setter\n",
    "    def password(self, value):\n",
    "        self._password = value\n",
    " \n",
    "    @password.deleter\n",
    "    def password(self):\n",
    "        del self._password\n",
    "        print('del complite')"
   ]
  },
  {
   "cell_type": "markdown",
   "id": "5a870397",
   "metadata": {
    "slideshow": {
     "slide_type": "slide"
    }
   },
   "source": [
    "Call the getter, setter, and deleter."
   ]
  },
  {
   "cell_type": "code",
   "execution_count": 6,
   "id": "680f41b3",
   "metadata": {
    "ExecuteTime": {
     "end_time": "2023-02-02T14:13:56.707255Z",
     "start_time": "2023-02-02T14:13:56.697248Z"
    }
   },
   "outputs": [
    {
     "name": "stdout",
     "output_type": "stream",
     "text": [
      "預設密碼 0000\n"
     ]
    }
   ],
   "source": [
    "#getter\n",
    "andy = Bank_acount()\n",
    "print(andy.password) #i.e., property"
   ]
  },
  {
   "cell_type": "code",
   "execution_count": 7,
   "id": "d0e1f691",
   "metadata": {
    "ExecuteTime": {
     "end_time": "2023-02-02T14:14:31.874783Z",
     "start_time": "2023-02-02T14:14:31.865757Z"
    }
   },
   "outputs": [
    {
     "name": "stdout",
     "output_type": "stream",
     "text": [
      "1234\n"
     ]
    }
   ],
   "source": [
    "#setter (i.e., @password.setter)\n",
    "andy.password = '1234'\n",
    "print(andy.password)"
   ]
  },
  {
   "cell_type": "code",
   "execution_count": 8,
   "id": "f7815218",
   "metadata": {
    "ExecuteTime": {
     "end_time": "2023-02-02T14:14:51.058257Z",
     "start_time": "2023-02-02T14:14:51.035291Z"
    },
    "collapsed": true
   },
   "outputs": [
    {
     "name": "stdout",
     "output_type": "stream",
     "text": [
      "del complite\n"
     ]
    },
    {
     "ename": "AttributeError",
     "evalue": "'Bank_acount' object has no attribute '_password'",
     "output_type": "error",
     "traceback": [
      "\u001b[1;31m---------------------------------------------------------------------------\u001b[0m",
      "\u001b[1;31mAttributeError\u001b[0m                            Traceback (most recent call last)",
      "\u001b[1;32m~\\AppData\\Local\\Temp\\ipykernel_12972\\176723610.py\u001b[0m in \u001b[0;36m<module>\u001b[1;34m\u001b[0m\n\u001b[0;32m      1\u001b[0m \u001b[1;31m#deleter\u001b[0m\u001b[1;33m\u001b[0m\u001b[1;33m\u001b[0m\u001b[0m\n\u001b[0;32m      2\u001b[0m \u001b[1;32mdel\u001b[0m \u001b[0mandy\u001b[0m\u001b[1;33m.\u001b[0m\u001b[0mpassword\u001b[0m\u001b[1;33m\u001b[0m\u001b[1;33m\u001b[0m\u001b[0m\n\u001b[1;32m----> 3\u001b[1;33m \u001b[0mprint\u001b[0m\u001b[1;33m(\u001b[0m\u001b[0mandy\u001b[0m\u001b[1;33m.\u001b[0m\u001b[0mpassword\u001b[0m\u001b[1;33m)\u001b[0m\u001b[1;33m\u001b[0m\u001b[1;33m\u001b[0m\u001b[0m\n\u001b[0m",
      "\u001b[1;32m~\\AppData\\Local\\Temp\\ipykernel_12972\\3658872552.py\u001b[0m in \u001b[0;36mpassword\u001b[1;34m(self)\u001b[0m\n\u001b[0;32m      5\u001b[0m     \u001b[1;33m@\u001b[0m\u001b[0mproperty\u001b[0m \u001b[1;31m#getter\u001b[0m\u001b[1;33m\u001b[0m\u001b[1;33m\u001b[0m\u001b[0m\n\u001b[0;32m      6\u001b[0m     \u001b[1;32mdef\u001b[0m \u001b[0mpassword\u001b[0m\u001b[1;33m(\u001b[0m\u001b[0mself\u001b[0m\u001b[1;33m)\u001b[0m\u001b[1;33m:\u001b[0m\u001b[1;33m\u001b[0m\u001b[1;33m\u001b[0m\u001b[0m\n\u001b[1;32m----> 7\u001b[1;33m         \u001b[1;32mreturn\u001b[0m \u001b[0mself\u001b[0m\u001b[1;33m.\u001b[0m\u001b[0m_password\u001b[0m\u001b[1;33m\u001b[0m\u001b[1;33m\u001b[0m\u001b[0m\n\u001b[0m\u001b[0;32m      8\u001b[0m \u001b[1;33m\u001b[0m\u001b[0m\n\u001b[0;32m      9\u001b[0m     \u001b[1;33m@\u001b[0m\u001b[0mpassword\u001b[0m\u001b[1;33m.\u001b[0m\u001b[0msetter\u001b[0m\u001b[1;33m\u001b[0m\u001b[1;33m\u001b[0m\u001b[0m\n",
      "\u001b[1;31mAttributeError\u001b[0m: 'Bank_acount' object has no attribute '_password'"
     ]
    }
   ],
   "source": [
    "#deleter\n",
    "del andy.password\n",
    "print(andy.password)"
   ]
  },
  {
   "cell_type": "markdown",
   "id": "f4138662",
   "metadata": {
    "slideshow": {
     "slide_type": "slide"
    }
   },
   "source": [
    "# @property 的實際應用場景\n",
    "銀行password封裝"
   ]
  },
  {
   "cell_type": "code",
   "execution_count": 39,
   "id": "66ef04bf",
   "metadata": {
    "ExecuteTime": {
     "end_time": "2023-02-02T14:23:05.146578Z",
     "start_time": "2023-02-02T14:23:05.140567Z"
    }
   },
   "outputs": [],
   "source": [
    "from werkzeug.security import generate_password_hash, check_password_hash\n",
    " \n",
    "class User:\n",
    "    def __init__(self):\n",
    "        self.password_hash = generate_password_hash('0000')\n",
    "        #print(self.password_hash)\n",
    "    @property\n",
    "    def password(self):\n",
    "        raise AttributeError('password is not readable attribute')\n",
    " \n",
    "    @password.setter\n",
    "    def password(self, password):\n",
    "        self.password_hash = generate_password_hash(password)\n",
    " \n",
    "    def verify_password(self, password):\n",
    "        return check_password_hash(self.password_hash, password)"
   ]
  },
  {
   "cell_type": "markdown",
   "id": "dfab0c47",
   "metadata": {
    "slideshow": {
     "slide_type": "slide"
    }
   },
   "source": [
    "首先我們將 class 實例化 user_max = User()，我們使用 @password.setter 的方式，來設定 user_max 的密碼是 max;若要提取password，將會出現AttributeError。"
   ]
  },
  {
   "cell_type": "code",
   "execution_count": 44,
   "id": "d10054eb",
   "metadata": {
    "ExecuteTime": {
     "end_time": "2023-02-02T14:23:23.120475Z",
     "start_time": "2023-02-02T14:23:22.963708Z"
    },
    "slideshow": {
     "slide_type": "-"
    }
   },
   "outputs": [],
   "source": [
    "user_max = User()\n",
    "user_max.password = 'max'"
   ]
  },
  {
   "cell_type": "markdown",
   "id": "2760dc99",
   "metadata": {
    "ExecuteTime": {
     "end_time": "2023-02-02T14:23:07.245817Z",
     "start_time": "2023-02-02T14:23:07.232817Z"
    },
    "slideshow": {
     "slide_type": "slide"
    }
   },
   "source": [
    "當設定完成後，我們再度呼叫user_max.password方法時，會出現 password is not readable attribute 的錯誤。\n",
    "若強制顯示password_hash，將為加密過後的password (亦可使用_或者__防止訪問)"
   ]
  },
  {
   "cell_type": "code",
   "execution_count": 46,
   "id": "a214345d",
   "metadata": {
    "ExecuteTime": {
     "end_time": "2023-02-02T14:23:26.754425Z",
     "start_time": "2023-02-02T14:23:26.741416Z"
    },
    "collapsed": true
   },
   "outputs": [
    {
     "ename": "AttributeError",
     "evalue": "password is not readable attribute",
     "output_type": "error",
     "traceback": [
      "\u001b[1;31m---------------------------------------------------------------------------\u001b[0m",
      "\u001b[1;31mAttributeError\u001b[0m                            Traceback (most recent call last)",
      "\u001b[1;32m~\\AppData\\Local\\Temp\\ipykernel_22500\\1076294129.py\u001b[0m in \u001b[0;36m<module>\u001b[1;34m\u001b[0m\n\u001b[1;32m----> 1\u001b[1;33m \u001b[0mprint\u001b[0m\u001b[1;33m(\u001b[0m\u001b[0muser_max\u001b[0m\u001b[1;33m.\u001b[0m\u001b[0mpassword\u001b[0m\u001b[1;33m)\u001b[0m \u001b[1;31m#password is not readable attribute\u001b[0m\u001b[1;33m\u001b[0m\u001b[1;33m\u001b[0m\u001b[0m\n\u001b[0m",
      "\u001b[1;32m~\\AppData\\Local\\Temp\\ipykernel_22500\\1694802568.py\u001b[0m in \u001b[0;36mpassword\u001b[1;34m(self)\u001b[0m\n\u001b[0;32m      7\u001b[0m     \u001b[1;33m@\u001b[0m\u001b[0mproperty\u001b[0m\u001b[1;33m\u001b[0m\u001b[1;33m\u001b[0m\u001b[0m\n\u001b[0;32m      8\u001b[0m     \u001b[1;32mdef\u001b[0m \u001b[0mpassword\u001b[0m\u001b[1;33m(\u001b[0m\u001b[0mself\u001b[0m\u001b[1;33m)\u001b[0m\u001b[1;33m:\u001b[0m\u001b[1;33m\u001b[0m\u001b[1;33m\u001b[0m\u001b[0m\n\u001b[1;32m----> 9\u001b[1;33m         \u001b[1;32mraise\u001b[0m \u001b[0mAttributeError\u001b[0m\u001b[1;33m(\u001b[0m\u001b[1;34m'password is not readable attribute'\u001b[0m\u001b[1;33m)\u001b[0m\u001b[1;33m\u001b[0m\u001b[1;33m\u001b[0m\u001b[0m\n\u001b[0m\u001b[0;32m     10\u001b[0m \u001b[1;33m\u001b[0m\u001b[0m\n\u001b[0;32m     11\u001b[0m     \u001b[1;33m@\u001b[0m\u001b[0mpassword\u001b[0m\u001b[1;33m.\u001b[0m\u001b[0msetter\u001b[0m\u001b[1;33m\u001b[0m\u001b[1;33m\u001b[0m\u001b[0m\n",
      "\u001b[1;31mAttributeError\u001b[0m: password is not readable attribute"
     ]
    }
   ],
   "source": [
    "print(user_max.password) #password is not readable attribute"
   ]
  },
  {
   "cell_type": "code",
   "execution_count": 47,
   "id": "67d054f6",
   "metadata": {
    "ExecuteTime": {
     "end_time": "2023-02-02T14:23:30.203157Z",
     "start_time": "2023-02-02T14:23:30.186136Z"
    },
    "slideshow": {
     "slide_type": "-"
    }
   },
   "outputs": [
    {
     "name": "stdout",
     "output_type": "stream",
     "text": [
      "pbkdf2:sha256:260000$rqphmXT5wALJgZEt$3dc3d827a27cef213b6c96f96e16209beb207a5bb66cb56a923a9a77e58bde74\n"
     ]
    }
   ],
   "source": [
    "print(user_max.password_hash)"
   ]
  },
  {
   "cell_type": "markdown",
   "id": "3444508b",
   "metadata": {
    "slideshow": {
     "slide_type": "slide"
    }
   },
   "source": [
    "驗證密碼可利用verify_password funciont:"
   ]
  },
  {
   "cell_type": "code",
   "execution_count": 48,
   "id": "334c56bd",
   "metadata": {
    "ExecuteTime": {
     "end_time": "2023-02-02T14:24:16.513013Z",
     "start_time": "2023-02-02T14:24:16.421410Z"
    }
   },
   "outputs": [
    {
     "name": "stdout",
     "output_type": "stream",
     "text": [
      "True\n"
     ]
    }
   ],
   "source": [
    "print(user_max.verify_password('max'))"
   ]
  },
  {
   "cell_type": "markdown",
   "id": "20c22007",
   "metadata": {
    "slideshow": {
     "slide_type": "slide"
    }
   },
   "source": [
    "# Conclusion\n",
    "Python 實際上沒有 100% 做到封裝（Encapsulation）、或者說變數並不完全是私有（Private）的。  \n",
    "Python 社群有「請當遵守規定的成熟大人（”We are all consenting adults”）」這句共同默契，Python 當然還是有辦法做到完整保護變數不被更動，但是比起花心力處理這種問題，不如大家都說好遵守這些寫程式的慣例、會比較輕鬆且有效率。  \n",
    "也就是，有前底線（_var）或 Property 裝飾過的變數，請大家守規矩、乖乖不要亂更動"
   ]
  }
 ],
 "metadata": {
  "celltoolbar": "Slideshow",
  "kernelspec": {
   "display_name": "Python 3 (ipykernel)",
   "language": "python",
   "name": "python3"
  },
  "language_info": {
   "codemirror_mode": {
    "name": "ipython",
    "version": 3
   },
   "file_extension": ".py",
   "mimetype": "text/x-python",
   "name": "python",
   "nbconvert_exporter": "python",
   "pygments_lexer": "ipython3",
   "version": "3.9.13"
  },
  "nbTranslate": {
   "displayLangs": [
    "fr",
    "en"
   ],
   "hotkey": "alt-t",
   "langInMainMenu": true,
   "sourceLang": "en",
   "targetLang": "fr",
   "useGoogleTranslate": true
  },
  "toc": {
   "base_numbering": 1,
   "nav_menu": {},
   "number_sections": true,
   "sideBar": true,
   "skip_h1_title": false,
   "title_cell": "Table of Contents",
   "title_sidebar": "Contents",
   "toc_cell": true,
   "toc_position": {},
   "toc_section_display": true,
   "toc_window_display": false
  },
  "varInspector": {
   "cols": {
    "lenName": 16,
    "lenType": 16,
    "lenVar": 40
   },
   "kernels_config": {
    "python": {
     "delete_cmd_postfix": "",
     "delete_cmd_prefix": "del ",
     "library": "var_list.py",
     "varRefreshCmd": "print(var_dic_list())"
    },
    "r": {
     "delete_cmd_postfix": ") ",
     "delete_cmd_prefix": "rm(",
     "library": "var_list.r",
     "varRefreshCmd": "cat(var_dic_list()) "
    }
   },
   "types_to_exclude": [
    "module",
    "function",
    "builtin_function_or_method",
    "instance",
    "_Feature"
   ],
   "window_display": false
  }
 },
 "nbformat": 4,
 "nbformat_minor": 5
}
