{
 "cells": [
  {
   "cell_type": "markdown",
   "id": "96fb9197",
   "metadata": {
    "slideshow": {
     "slide_type": "slide"
    }
   },
   "source": [
    "# Python new features (start at 3.5 version)"
   ]
  },
  {
   "cell_type": "markdown",
   "id": "a132ed1b",
   "metadata": {
    "lang": "zh-tw",
    "slideshow": {
     "slide_type": "slide"
    }
   },
   "source": [
    "## Python 3.5\n",
    "* 矩陣乘法專用的運算符@\n",
    "* 解構列表，**解構字典\n",
    "* typing model用於註解參數與回傳型態 (此文檔於Python 3.8說明)"
   ]
  },
  {
   "cell_type": "code",
   "execution_count": 6,
   "id": "0226c7c4",
   "metadata": {
    "ExecuteTime": {
     "end_time": "2023-02-04T04:11:44.606568Z",
     "start_time": "2023-02-04T04:11:44.598064Z"
    },
    "slideshow": {
     "slide_type": "-"
    }
   },
   "outputs": [
    {
     "name": "stdout",
     "output_type": "stream",
     "text": [
      "(2,) (2,)\n",
      "19\n"
     ]
    }
   ],
   "source": [
    "#矩陣乘法專用的運算符@\n",
    "import numpy as np\n",
    "x = np.array([3, 2])\n",
    "p = np.array([5, 2])\n",
    "print(x.shape, p.shape)\n",
    "#p = np.array([5, 2]).transpose()\n",
    "print(x@p) #even though it is invalid in math."
   ]
  },
  {
   "cell_type": "markdown",
   "id": "371d8696",
   "metadata": {
    "ExecuteTime": {
     "end_time": "2023-02-05T06:33:20.995347Z",
     "start_time": "2023-02-05T06:33:20.854089Z"
    },
    "slideshow": {
     "slide_type": "slide"
    }
   },
   "source": [
    "註解參數與回傳型態一般使用"
   ]
  },
  {
   "cell_type": "code",
   "execution_count": 3,
   "id": "77df0825",
   "metadata": {
    "ExecuteTime": {
     "end_time": "2023-02-05T06:33:58.264568Z",
     "start_time": "2023-02-05T06:33:58.254566Z"
    }
   },
   "outputs": [],
   "source": [
    "#General use\n",
    "def get_value(json: str) -> str:\n",
    "#meaning that json \"should\" be str and return value \"should\" be str (but it is not force.)\n",
    "     x = parse(json)\n",
    "     return x"
   ]
  },
  {
   "cell_type": "markdown",
   "id": "34a05715",
   "metadata": {
    "slideshow": {
     "slide_type": "slide"
    }
   },
   "source": [
    "## Python 3.6\n",
    "* f-string (後續亦增加其他用法)\n",
    "* async 和 await的協同生成器 (後續版本亦有更新)\n",
    "* secrets module用於password等管理"
   ]
  },
  {
   "cell_type": "markdown",
   "id": "269183a1",
   "metadata": {
    "slideshow": {
     "slide_type": "slide"
    }
   },
   "source": [
    "數字underline用法"
   ]
  },
  {
   "cell_type": "code",
   "execution_count": 8,
   "id": "7d2d014f",
   "metadata": {
    "ExecuteTime": {
     "end_time": "2023-02-03T18:50:25.509932Z",
     "start_time": "2023-02-03T18:50:25.496942Z"
    },
    "slideshow": {
     "slide_type": "-"
    }
   },
   "outputs": [
    {
     "name": "stdout",
     "output_type": "stream",
     "text": [
      "1000000000000000\n",
      "4294967295\n",
      "1000000000000000\n"
     ]
    }
   ],
   "source": [
    "#數字underline用法\n",
    "a = 1_000_000_000_000_000    # 1000000000000000\n",
    "b = 0x_FF_FF_FF_FF       # 4294967295\n",
    "print(a)\n",
    "print(b)\n",
    "print(1_000_000_000_000_000)"
   ]
  },
  {
   "cell_type": "markdown",
   "id": "9d11fc06",
   "metadata": {
    "slideshow": {
     "slide_type": "slide"
    }
   },
   "source": [
    "async 和 await的協同生成器"
   ]
  },
  {
   "cell_type": "code",
   "execution_count": 49,
   "id": "f4683aa9",
   "metadata": {
    "ExecuteTime": {
     "end_time": "2023-02-05T07:21:31.448366Z",
     "start_time": "2023-02-05T07:21:31.438367Z"
    },
    "slideshow": {
     "slide_type": "-"
    }
   },
   "outputs": [
    {
     "name": "stdout",
     "output_type": "stream",
     "text": [
      "<async_generator object ticker at 0x000002108188BC10>\n",
      "<async_generator object ticker at 0x000002108188BC10>\n"
     ]
    }
   ],
   "source": [
    "#async 和 await的協同生成器\n",
    "import asyncio\n",
    "\n",
    "async def ticker(delay, to):\n",
    "\n",
    "  for i in range(to):\n",
    "    yield i\n",
    "    await asyncio.sleep(delay)\n",
    "\n",
    "n=5\n",
    "print(ticker(3,n))\n",
    "print(ticker(3,n))"
   ]
  },
  {
   "cell_type": "markdown",
   "id": "9bc4d602",
   "metadata": {
    "slideshow": {
     "slide_type": "slide"
    }
   },
   "source": [
    "## Python 3.7\n",
    "* 內建breakpoint\n",
    "* 類型和註解\n",
    "* dictionary保持插入順序\n",
    "* dataclass"
   ]
  },
  {
   "cell_type": "markdown",
   "id": "1cfef50b",
   "metadata": {
    "slideshow": {
     "slide_type": "slide"
    }
   },
   "source": [
    "內建breakpoint"
   ]
  },
  {
   "cell_type": "code",
   "execution_count": 11,
   "id": "375eb2d5",
   "metadata": {
    "ExecuteTime": {
     "end_time": "2023-02-03T18:54:02.119173Z",
     "start_time": "2023-02-03T18:54:02.104173Z"
    },
    "slideshow": {
     "slide_type": "-"
    }
   },
   "outputs": [
    {
     "name": "stdout",
     "output_type": "stream",
     "text": [
      "0\n",
      "1\n",
      "2\n"
     ]
    }
   ],
   "source": [
    "# default breakpoint\n",
    "for i in range(3):\n",
    "    breakpoint() #please use it in Spyder or Pycharm...\n",
    "    print(i)"
   ]
  },
  {
   "cell_type": "markdown",
   "id": "937aa56e",
   "metadata": {
    "slideshow": {
     "slide_type": "slide"
    }
   },
   "source": [
    "類型和註解"
   ]
  },
  {
   "cell_type": "code",
   "execution_count": 105,
   "id": "5d995e0c",
   "metadata": {
    "ExecuteTime": {
     "end_time": "2023-02-04T19:42:22.897123Z",
     "start_time": "2023-02-04T19:42:22.882098Z"
    },
    "slideshow": {
     "slide_type": "-"
    }
   },
   "outputs": [],
   "source": [
    "# previous way\n",
    "def foo(bar, baz):\n",
    "    pass\n",
    "foo(3, 1)"
   ]
  },
  {
   "cell_type": "code",
   "execution_count": 13,
   "id": "cbf93999",
   "metadata": {
    "ExecuteTime": {
     "end_time": "2023-02-03T18:55:35.936520Z",
     "start_time": "2023-02-03T18:55:35.929520Z"
    }
   },
   "outputs": [
    {
     "name": "stdout",
     "output_type": "stream",
     "text": [
      "random value\n"
     ]
    }
   ],
   "source": [
    "# with annotations\n",
    "def foo(bar: 'Descrbie the bar', baz: print('random value')) -> 'return a thing':\n",
    "    pass\n",
    "foo(3, 1)"
   ]
  },
  {
   "cell_type": "code",
   "execution_count": 7,
   "id": "2fff1d46",
   "metadata": {
    "ExecuteTime": {
     "end_time": "2023-02-04T04:15:57.920491Z",
     "start_time": "2023-02-04T04:15:57.902961Z"
    },
    "slideshow": {
     "slide_type": "-"
    }
   },
   "outputs": [],
   "source": [
    "#向前引用註解\n",
    "from __future__ import annotations #in 4.0 version\n",
    "class User:\n",
    "    def __init__(self, name: str, prev_user: User) -> None:\n",
    "        pass"
   ]
  },
  {
   "cell_type": "markdown",
   "id": "d93d33be",
   "metadata": {
    "slideshow": {
     "slide_type": "slide"
    }
   },
   "source": [
    "**The important update in Python 3.7 -> dataclasses**  \n",
    "* 免去 \\_\\_init\\_\\_() 方法的程式碼\n",
    "* field() 的使用\n",
    "* @dataclass() 的參數"
   ]
  },
  {
   "cell_type": "code",
   "execution_count": 12,
   "id": "4a82903d",
   "metadata": {
    "ExecuteTime": {
     "end_time": "2023-02-04T16:18:30.375701Z",
     "start_time": "2023-02-04T16:18:30.365177Z"
    },
    "slideshow": {
     "slide_type": "-"
    }
   },
   "outputs": [
    {
     "name": "stdout",
     "output_type": "stream",
     "text": [
      "<__main__.Employee object at 0x000001E6D8A6FAF0>\n"
     ]
    }
   ],
   "source": [
    "#The original way\n",
    "class Employee:\n",
    "    \"\"\"Class that contains basic information about an employee.\"\"\"\n",
    "    def __init__(self, name: str, job: str, salary: int = 0) -> None:\n",
    "        self.name = name\n",
    "        self.job = job\n",
    "        self.salary = salary\n",
    "employee_1 = Employee(\"Huang\", \"Data Analyst\", 22_000)\n",
    "print(employee_1)"
   ]
  },
  {
   "cell_type": "markdown",
   "id": "3fed1dd2",
   "metadata": {
    "slideshow": {
     "slide_type": "slide"
    }
   },
   "source": [
    "dataclass use &rarr; 免去 init() 方法的程式碼"
   ]
  },
  {
   "cell_type": "code",
   "execution_count": 82,
   "id": "b9b4d5cc",
   "metadata": {
    "ExecuteTime": {
     "end_time": "2023-02-04T19:00:33.418329Z",
     "start_time": "2023-02-04T19:00:33.413328Z"
    },
    "slideshow": {
     "slide_type": "-"
    }
   },
   "outputs": [
    {
     "name": "stdout",
     "output_type": "stream",
     "text": [
      "Employee_dc(name='Wang', job='Data Engineer', salary=24000)\n"
     ]
    }
   ],
   "source": [
    "from dataclasses import dataclass\n",
    "\n",
    "@dataclass #The __repr__ is defined automatically...\n",
    "class Employee_dc:\n",
    "    name: str\n",
    "    job: str\n",
    "    salary: int = 0\n",
    "        \n",
    "employee_2 = Employee_dc(\"Wang\", \"Data Engineer\", 24_000)\n",
    "print(employee_2)"
   ]
  },
  {
   "cell_type": "markdown",
   "id": "826aed9e",
   "metadata": {
    "slideshow": {
     "slide_type": "slide"
    }
   },
   "source": [
    "\\_\\_post_init__()函式會在所有屬性在實例被初始化之後立刻接著被呼叫，使用方法是在 dataclass 內自己定義一個名為 \\_\\_post\\_init\\_\\_() 的函式，它最常被用的場景是需要取決於初始的其他屬性來產生新資料的時候。"
   ]
  },
  {
   "cell_type": "code",
   "execution_count": 89,
   "id": "2900486b",
   "metadata": {
    "ExecuteTime": {
     "end_time": "2023-02-04T19:04:50.676899Z",
     "start_time": "2023-02-04T19:04:50.657900Z"
    },
    "slideshow": {
     "slide_type": "-"
    }
   },
   "outputs": [
    {
     "name": "stdout",
     "output_type": "stream",
     "text": [
      "Employee_dc(name='Wang', job='Data Engineer', salary=24000, create_time=datetime.datetime(2023, 2, 5, 3, 4, 50, 659908), company='Python_learning_company')\n"
     ]
    }
   ],
   "source": [
    "from dataclasses import dataclass, field #import field\n",
    "import datetime\n",
    "\n",
    "@dataclass #The __repr__ is defined automatically...\n",
    "class Employee_dc:\n",
    "    name: str\n",
    "    job: str\n",
    "    salary: int = 0 #default\n",
    "    create_time:datetime.datetime = 0 #default\n",
    "    company:str = 0 #default\n",
    "        \n",
    "    def __post_init__(self): #fuction __post_init__ would be implemented automatically.\n",
    "        self.create_time = datetime.datetime.now()\n",
    "        self.company = 'Python_learning_company'\n",
    "        \n",
    "employee_2 = Employee_dc(\"Wang\", \"Data Engineer\", 24_000) #datetime.datetime.now()\n",
    "print(employee_2)"
   ]
  },
  {
   "cell_type": "markdown",
   "id": "c56bc949",
   "metadata": {
    "slideshow": {
     "slide_type": "slide"
    }
   },
   "source": [
    "**field(*, default=MISSING, default_factory=MISSING, repr=True, hash=None, init=True, compare=True, metadata=None)：客製化資料屬性**  \n",
    "field() 是用來有彈性地客製化 dataclass 裡的各個屬性（Attribute）資料。  \n",
    "Suppose that the class is built with the creation time (automatically)."
   ]
  },
  {
   "cell_type": "code",
   "execution_count": 21,
   "id": "4ca7b46f",
   "metadata": {
    "ExecuteTime": {
     "end_time": "2023-02-04T16:28:12.745862Z",
     "start_time": "2023-02-04T16:28:12.740861Z"
    }
   },
   "outputs": [
    {
     "name": "stdout",
     "output_type": "stream",
     "text": [
      "2023-02-05 00:28:12.741874\n"
     ]
    }
   ],
   "source": [
    "import datetime\n",
    "print(datetime.datetime.now())"
   ]
  },
  {
   "cell_type": "markdown",
   "id": "0610fd44",
   "metadata": {
    "slideshow": {
     "slide_type": "slide"
    }
   },
   "source": [
    "#filed keyword  \n",
    "***init=false*** &rarr; attributes cannot be inpuuted."
   ]
  },
  {
   "cell_type": "code",
   "execution_count": null,
   "id": "a7446b66",
   "metadata": {},
   "outputs": [],
   "source": [
    "from dataclasses import dataclass, field #import field\n",
    "import datetime\n",
    "\n",
    "@dataclass #The __repr__ is defined automatically...\n",
    "class Employee_dc:\n",
    "    name: str\n",
    "    job: str\n",
    "    salary: int = 0\n",
    "    create_time:datetime.datetime = field(init=False)\n",
    "    company:str = field(init=False)\n",
    "        \n",
    "    def __post_init__(self): #fuction __post_init__ would be implemented automatically.\n",
    "        self.create_time = datetime.datetime.now()\n",
    "        self.company = 'Python_learning_company'\n",
    "        \n",
    "employee_2 = Employee_dc(\"Wang\", \"Data Engineer\", 24_000) #datetime.datetime.now()\n",
    "print(employee_2)"
   ]
  },
  {
   "cell_type": "markdown",
   "id": "cc373bfa",
   "metadata": {
    "slideshow": {
     "slide_type": "slide"
    }
   },
   "source": [
    "filed keywords &rarr; **default_factory=object or default=value**  \n",
    "default 與 default_factory 兩個參數只能擇一使用"
   ]
  },
  {
   "cell_type": "code",
   "execution_count": 41,
   "id": "86ce51e4",
   "metadata": {
    "ExecuteTime": {
     "end_time": "2023-02-04T17:19:56.878589Z",
     "start_time": "2023-02-04T17:19:56.863046Z"
    },
    "slideshow": {
     "slide_type": "-"
    }
   },
   "outputs": [
    {
     "name": "stdout",
     "output_type": "stream",
     "text": [
      "Employee_dc(name='Wang', job='Data Engineer', salary=24000, create_time=datetime.datetime(2023, 2, 5, 1, 19, 56, 866048))\n"
     ]
    }
   ],
   "source": [
    "from dataclasses import dataclass, field\n",
    "import datetime\n",
    "\n",
    "@dataclass #The __repr__ is defined automatically...\n",
    "class Employee_dc:\n",
    "    name: str\n",
    "    job: str\n",
    "    salary: int = 0\n",
    "    create_time:datetime.datetime = field(init=False, default_factory=datetime.datetime.now) #default=datetime.datetime.now()\n",
    "        \n",
    "#     def __post_init__(self):\n",
    "#         self.create_time = datetime.datetime.now()\n",
    "        \n",
    "employee_2 = Employee_dc(\"Wang\", \"Data Engineer\", 24_000) #datetime.datetime.now()\n",
    "print(employee_2)"
   ]
  },
  {
   "cell_type": "markdown",
   "id": "f173fb8a",
   "metadata": {
    "slideshow": {
     "slide_type": "slide"
    }
   },
   "source": [
    "「可變物件引數預設值」就是需要用到 default_factory 的重要場景"
   ]
  },
  {
   "cell_type": "code",
   "execution_count": 57,
   "id": "caaa11b1",
   "metadata": {
    "ExecuteTime": {
     "end_time": "2023-02-04T17:33:41.851092Z",
     "start_time": "2023-02-04T17:33:41.833073Z"
    },
    "slideshow": {
     "slide_type": "-"
    }
   },
   "outputs": [
    {
     "name": "stdout",
     "output_type": "stream",
     "text": [
      "Employee(name='Huang', job='Data Analyst', salary=22000, skillset=[])\n",
      "Employee(name='Huang', job='Data Analyst', salary=22000, skillset=['Python', 'C++'])\n"
     ]
    }
   ],
   "source": [
    "@dataclass\n",
    "class Employee:\n",
    "    \"\"\"Class that contains basic information about an employee.\"\"\"\n",
    "    name: str\n",
    "    job: str\n",
    "    salary: int = 0\n",
    "    skillset: list[str] = field(default_factory=list) #instead of skilllset: list[str] = [] #[] is mutable.\n",
    "em1 = Employee(\"Huang\", \"Data Analyst\", 22_000) \n",
    "print(em1)\n",
    "em1.skillset.append(\"Python\")\n",
    "em1.skillset.append(\"C++\")\n",
    "print(em1)"
   ]
  },
  {
   "cell_type": "markdown",
   "id": "b04426b7",
   "metadata": {
    "slideshow": {
     "slide_type": "slide"
    }
   },
   "source": [
    "filed keyword &rarr; **repr=False**  \n",
    "dataclass 自動幫我們實作 \\_\\_repr\\__() 函式，print() 因此才可以呈現出較有意義的內容，但也有某些情況我們不希望部分屬性被 print 出來，這可以透過設定 field(repr=False) 來達成。"
   ]
  },
  {
   "cell_type": "code",
   "execution_count": 42,
   "id": "ea8b3ab1",
   "metadata": {
    "ExecuteTime": {
     "end_time": "2023-02-04T17:20:01.332382Z",
     "start_time": "2023-02-04T17:20:01.317302Z"
    }
   },
   "outputs": [
    {
     "name": "stdout",
     "output_type": "stream",
     "text": [
      "Employee_dc(name='Wang', job='Data Engineer', salary=24000, create_time=datetime.datetime(2023, 2, 5, 1, 20, 1, 319835))\n",
      "18\n"
     ]
    }
   ],
   "source": [
    "from dataclasses import dataclass, field\n",
    "import datetime\n",
    "\n",
    "@dataclass #The __repr__ is defined automatically...\n",
    "class Employee_dc:\n",
    "    name: str\n",
    "    age: int = field(repr=False) #field(default=18, repr=False)\n",
    "    job: str\n",
    "    salary: int = 0\n",
    "    create_time:datetime.datetime = field(init=False, default_factory=datetime.datetime.now) #default=datetime.datetime.now()\n",
    "        \n",
    "#     def __post_init__(self):\n",
    "#         self.create_time = datetime.datetime.now()\n",
    "        \n",
    "employee = Employee_dc(\"Wang\", 18, \"Data Engineer\", 24_000) #datetime.datetime.now()\n",
    "print(employee)\n",
    "print(employee.age)"
   ]
  },
  {
   "cell_type": "markdown",
   "id": "33964fa1",
   "metadata": {
    "slideshow": {
     "slide_type": "slide"
    }
   },
   "source": [
    "當你創建 dataclass 實例的時候，它可以預先幫你實作好的函式（dunder method）包括：\n",
    "* __eq__() [預設]\n",
    "* __repr__() [預設]\n",
    "* __lt__() and __gt__()\n",
    "* __hash__()\n",
    "* 還有更多函式，請見 PEP 557"
   ]
  },
  {
   "cell_type": "code",
   "execution_count": 92,
   "id": "f6494fc4",
   "metadata": {
    "ExecuteTime": {
     "end_time": "2023-02-04T19:23:24.858906Z",
     "start_time": "2023-02-04T19:23:24.847897Z"
    },
    "slideshow": {
     "slide_type": "slide"
    }
   },
   "outputs": [
    {
     "name": "stdout",
     "output_type": "stream",
     "text": [
      "RegularCard(rank=3, suit=5) RegularCard(rank=4, suit=6)\n",
      "False True\n"
     ]
    }
   ],
   "source": [
    "class RegularCard:\n",
    "    def __init__(self, rank, suit):\n",
    "        self.rank = rank\n",
    "        self.suit = suit\n",
    "\n",
    "    def __repr__(self):\n",
    "        return (f'{self.__class__.__name__}'\n",
    "                f'(rank={self.rank!r}, suit={self.suit!r})')\n",
    "    \n",
    "    def __eq__(self, other): #equality\n",
    "        if not(isinstance(other, self.__class__)): #if other.__class__ is not self.__class__:\n",
    "            return NotImplemented #or false\n",
    "        return (self.rank, self.suit) == (other.rank, other.suit)\n",
    "    \n",
    "    def __lt__(self, other): #less than -> introduce later\n",
    "        if other.__class__ is not self.__class__:\n",
    "            return NotImplemented\n",
    "        return (self.rank, self.suit) < (other.rank, other.suit)\n",
    "    \n",
    "A = RegularCard(3,5)\n",
    "B = RegularCard(4,6)\n",
    "print(A, B)\n",
    "print(A == B, A < B)"
   ]
  },
  {
   "cell_type": "code",
   "execution_count": 93,
   "id": "3fcf1b39",
   "metadata": {
    "ExecuteTime": {
     "end_time": "2023-02-04T19:23:54.872747Z",
     "start_time": "2023-02-04T19:23:54.860202Z"
    },
    "slideshow": {
     "slide_type": "slide"
    }
   },
   "outputs": [
    {
     "name": "stdout",
     "output_type": "stream",
     "text": [
      "RegularCard(rank=3, suit=5) RegularCard(rank=4, suit=6) RegularCard(rank=3, suit=5)\n",
      "False\n",
      "True False\n"
     ]
    }
   ],
   "source": [
    "#dataclass\n",
    "@dataclass\n",
    "class RegularCard:\n",
    "    rank:int = field(default=0)\n",
    "    suit:int = field(default=0)\n",
    "        \n",
    "A = RegularCard(3,5)\n",
    "B = RegularCard(4,6)\n",
    "C = RegularCard(3,5)\n",
    "\n",
    "# automatically generate by dataclass\n",
    "#     def __repr__(self):\n",
    "#         return (f'{self.__class__.__name__}'\n",
    "#                 f'(rank={self.rank!r}, suit={self.suit!r})')\n",
    "    \n",
    "#     def __eq__(self, other): #equality\n",
    "#         if not(isinstance(other, self.__class__)): #if other.__class__ is not self.__class__:\n",
    "#             return NotImplemented #or false\n",
    "#         return (self.rank, self.suit) == (other.rank, other.suit\n",
    "\n",
    "print(A, B, C) #by __repr__\n",
    "print(A == B)\n",
    "print(A == C, A is C)"
   ]
  },
  {
   "cell_type": "markdown",
   "id": "648083d1",
   "metadata": {
    "slideshow": {
     "slide_type": "slide"
    }
   },
   "source": [
    "**dataclass 用裝飾器參數再擴充功能**  **#the arguments in PYthon 3.11.**  \n",
    "@dataclass(init=True, repr=True, eq=True, order=False, unsafe_hash=False, frozen=False, match_args=True, kw_only=False, slots=False, weakref_slot=False) "
   ]
  },
  {
   "cell_type": "code",
   "execution_count": 106,
   "id": "6e462c6b",
   "metadata": {
    "ExecuteTime": {
     "end_time": "2023-02-04T19:44:57.381147Z",
     "start_time": "2023-02-04T19:44:57.368615Z"
    },
    "slideshow": {
     "slide_type": "slide"
    }
   },
   "outputs": [],
   "source": [
    "# Originial definition\n",
    "from datetime import datetime\n",
    "import dateutil\n",
    "\n",
    "class Article(object):\n",
    "    def __init__(self, _id, author_id, title, text, tags=None, created=datetime.now(), edited=datetime.now()):\n",
    "        self._id = _id\n",
    "        self.author_id = author_id\n",
    "        self.title = title\n",
    "        self.text = text\n",
    "        self.tags = list() if tags is None else tags\n",
    "        self.created = created\n",
    "        self.edited = edited\n",
    "\n",
    "        if type(self.created) is str:\n",
    "           self.created = dateutil.parser.parse(self.created)\n",
    "        \n",
    "        if type(self.edited) is str:\n",
    "           self.edited = dateutil.parser.parse(self.edited)\n",
    "        \n",
    "        def __eq__(self, other):\n",
    "            if not isinstance(other, self.__class__):\n",
    "                return NotImplemented\n",
    "            return (self._id, self.author_id) == (other._id, other.author_id)\n",
    "        \n",
    "        def __lt__(self, other):\n",
    "            if not isinstance(other, self.__class__):\n",
    "                return NotImplemented\n",
    "            return (self._id, self.author_id) < (other._id, other.author_id)\n",
    "        \n",
    "        def __repr__(self):\n",
    "            return '{}(id={}, author_id={}, title={})'.format(\n",
    "                    self.__class__.__name__, self._id, self.author_id, self.title)"
   ]
  },
  {
   "cell_type": "markdown",
   "id": "2953a2e0",
   "metadata": {
    "slideshow": {
     "slide_type": "slide"
    }
   },
   "source": [
    "order：設定這個參數讓你的 dataclass 可以彼此比較大小、並排序。  \n",
    "包含 \\_\\_gt__、\\_\\_ge__、\\_\\_lt__、\\_\\_le__。"
   ]
  },
  {
   "cell_type": "code",
   "execution_count": 109,
   "id": "bb522120",
   "metadata": {
    "ExecuteTime": {
     "end_time": "2023-02-04T19:46:12.085616Z",
     "start_time": "2023-02-04T19:46:12.066609Z"
    },
    "slideshow": {
     "slide_type": "-"
    }
   },
   "outputs": [],
   "source": [
    "#dataclass\n",
    "from dataclasses import dataclass, field\n",
    "from typing import List\n",
    "from datetime import datetime\n",
    "import dateutil\n",
    "\n",
    "@dataclass(order=True)\n",
    "class Article(object):\n",
    "    _id: int\n",
    "    author_id: int\n",
    "    title: str = field(compare=False)#not compare in __eq__ et al.\n",
    "    text: str = field(repr=False, compare=False)\n",
    "    tags: List[str] = field(default_factory=list, repr=False, compare=False) \n",
    "    created: datetime = field(default=datetime.now(), repr=False, compare=False)\n",
    "    edited: datetime = field(default=datetime.now(), repr=False, compare=False)\n",
    "\n",
    "    def __post_init__(self):\n",
    "       if type(self.created) is str:\n",
    "           self.created = dateutil.parser.parse(self.created)\n",
    "\n",
    "       if type(self.edited) is str:\n",
    "           self.edited = dateutil.parser.parse(self.edited)"
   ]
  },
  {
   "cell_type": "markdown",
   "id": "812ddb98",
   "metadata": {
    "slideshow": {
     "slide_type": "slide"
    }
   },
   "source": [
    "Another simple example:"
   ]
  },
  {
   "cell_type": "code",
   "execution_count": 110,
   "id": "e0063be2",
   "metadata": {
    "ExecuteTime": {
     "end_time": "2023-02-04T19:46:16.402282Z",
     "start_time": "2023-02-04T19:46:16.387270Z"
    },
    "slideshow": {
     "slide_type": "-"
    }
   },
   "outputs": [
    {
     "name": "stdout",
     "output_type": "stream",
     "text": [
      "False True False\n"
     ]
    }
   ],
   "source": [
    "@dataclass(order=True)\n",
    "class T:\n",
    "    a: int\n",
    "    b: int\n",
    "    c: int\n",
    "t1 = T(1, 2, 3)\n",
    "t2 = T(1, 0, 20)\n",
    "print(t1==t2, t1>=t2, t1<t2)"
   ]
  },
  {
   "cell_type": "markdown",
   "id": "37464d9f",
   "metadata": {
    "slideshow": {
     "slide_type": "slide"
    }
   },
   "source": [
    "**frozen**  \n",
    "使用 @dataclass(frozen=True) 之後，所有對 dataclass *全部屬性*賦值（Assign）的行為都會出現程式錯誤（Exception），也就是要你的資料「結凍」起來、不可被修改。"
   ]
  },
  {
   "cell_type": "code",
   "execution_count": 8,
   "id": "cd52b0c4",
   "metadata": {
    "ExecuteTime": {
     "end_time": "2023-02-05T06:49:42.885486Z",
     "start_time": "2023-02-05T06:49:42.867482Z"
    },
    "collapsed": true
   },
   "outputs": [
    {
     "name": "stdout",
     "output_type": "stream",
     "text": [
      "T(a=1, b=2, c=3) T(a=1, b=0, c=20)\n"
     ]
    },
    {
     "ename": "FrozenInstanceError",
     "evalue": "cannot assign to field 'a'",
     "output_type": "error",
     "traceback": [
      "\u001b[1;31m---------------------------------------------------------------------------\u001b[0m",
      "\u001b[1;31mFrozenInstanceError\u001b[0m                       Traceback (most recent call last)",
      "Cell \u001b[1;32mIn[8], line 11\u001b[0m\n\u001b[0;32m      8\u001b[0m t2 \u001b[38;5;241m=\u001b[39m T(\u001b[38;5;241m1\u001b[39m, \u001b[38;5;241m0\u001b[39m, \u001b[38;5;241m20\u001b[39m)\n\u001b[0;32m     10\u001b[0m \u001b[38;5;28mprint\u001b[39m(t1, t2)\n\u001b[1;32m---> 11\u001b[0m \u001b[43mt1\u001b[49m\u001b[38;5;241;43m.\u001b[39;49m\u001b[43ma\u001b[49m \u001b[38;5;241m=\u001b[39m \u001b[38;5;241m100\u001b[39m \u001b[38;5;66;03m#FrozenInstanceError\u001b[39;00m\n",
      "File \u001b[1;32m<string>:4\u001b[0m, in \u001b[0;36m__setattr__\u001b[1;34m(self, name, value)\u001b[0m\n",
      "\u001b[1;31mFrozenInstanceError\u001b[0m: cannot assign to field 'a'"
     ]
    }
   ],
   "source": [
    "from dataclasses import dataclass, field\n",
    "@dataclass(frozen=True)\n",
    "class T:\n",
    "    a: int\n",
    "    b: int\n",
    "    c: int\n",
    "t1 = T(1, 2, 3)\n",
    "t2 = T(1, 0, 20)\n",
    "\n",
    "print(t1, t2)\n",
    "t1.a = 100 #FrozenInstanceError"
   ]
  },
  {
   "cell_type": "markdown",
   "id": "5c6a43f2",
   "metadata": {},
   "source": [
    "如果想結凍不可被修改的屬性資料只有一、兩個變數，請改用OPP中的 @property 封裝技術"
   ]
  },
  {
   "cell_type": "markdown",
   "id": "8bd7ba37",
   "metadata": {
    "slideshow": {
     "slide_type": "slide"
    }
   },
   "source": [
    "**slots**  \n",
    "不需要在程式執行階段增減物件屬性，就適合使用 slots，它會事先定義物件屬性需要多少記憶體空間，執行時就可以讓佔用的記憶體瘦身，並且加快存取速度。  \n",
    "類別內部，自訂的屬性資料 Python 實際上是用 dict 儲存，可以用 \\_\\_dict__ 查看:"
   ]
  },
  {
   "cell_type": "code",
   "execution_count": 15,
   "id": "32bb868b",
   "metadata": {
    "ExecuteTime": {
     "end_time": "2023-02-05T06:57:42.827206Z",
     "start_time": "2023-02-05T06:57:42.820196Z"
    }
   },
   "outputs": [
    {
     "name": "stdout",
     "output_type": "stream",
     "text": [
      "{'a': 1, 'b': 2, 'c': 3}\n"
     ]
    }
   ],
   "source": [
    "from dataclasses import dataclass, field\n",
    "@dataclass()\n",
    "class T:\n",
    "    a: int\n",
    "    b: int\n",
    "    c: int\n",
    "        \n",
    "t1 = T(1, 2, 3)\n",
    "print(t1.__dict__)"
   ]
  },
  {
   "cell_type": "code",
   "execution_count": 20,
   "id": "b820762e",
   "metadata": {
    "ExecuteTime": {
     "end_time": "2023-02-05T06:58:35.985448Z",
     "start_time": "2023-02-05T06:58:35.972449Z"
    },
    "slideshow": {
     "slide_type": "-"
    }
   },
   "outputs": [
    {
     "name": "stdout",
     "output_type": "stream",
     "text": [
      "T(a=1, b=2, c=3)\n",
      "['a', 'b', 'c']\n"
     ]
    }
   ],
   "source": [
    "@dataclass()\n",
    "class T:\n",
    "    __slots__ = ['a', 'b', 'c']\n",
    "    a: int\n",
    "    b: int\n",
    "    c: int\n",
    "        \n",
    "t1 = T(1, 2, 3)\n",
    "\n",
    "print(t1)\n",
    "print(t1.__slots__) #print(t1.__dict__) -> 'T' object has no attribute '__dict__'"
   ]
  },
  {
   "cell_type": "markdown",
   "id": "802595c9",
   "metadata": {},
   "source": [
    "在Python 3.10 以上版本，只要裝飾器參數設定 @dataclass(slots=True)，dataclass 會自動幫你實作 __slots__"
   ]
  },
  {
   "cell_type": "markdown",
   "id": "4607f710",
   "metadata": {
    "slideshow": {
     "slide_type": "slide"
    }
   },
   "source": [
    "**kw_only**  #keyword only, Python 3.10 以上  \n",
    "要求使用者創造實例時，只能用關鍵字引數（Keyword Argument），不能用位置引數（Positional Argument）\n",
    "t1 = T(a=1, b=2, c=3)"
   ]
  },
  {
   "cell_type": "markdown",
   "id": "dd95b677",
   "metadata": {
    "slideshow": {
     "slide_type": "slide"
    }
   },
   "source": [
    "**dataclass with pandas**  \n",
    "pandas.DataFrame 可以接收 dict-like container for Series objects"
   ]
  },
  {
   "cell_type": "code",
   "execution_count": 45,
   "id": "e5663144",
   "metadata": {
    "ExecuteTime": {
     "end_time": "2023-02-05T07:18:47.631399Z",
     "start_time": "2023-02-05T07:18:47.612411Z"
    },
    "slideshow": {
     "slide_type": "-"
    }
   },
   "outputs": [],
   "source": [
    "import pandas as pd\n",
    " \n",
    "class Product:\n",
    "    def __init__(self, name, qty):\n",
    "        self.name = name\n",
    "        self.qty = qty\n",
    " \n",
    "products = []\n",
    "for i in range(10):\n",
    "    products.append(Product(name=i, qty=i*2))\n",
    " \n",
    "df = pd.DataFrame(products)"
   ]
  },
  {
   "cell_type": "code",
   "execution_count": 37,
   "id": "5d5449ea",
   "metadata": {
    "ExecuteTime": {
     "end_time": "2023-02-05T07:15:07.257012Z",
     "start_time": "2023-02-05T07:15:07.247014Z"
    },
    "slideshow": {
     "slide_type": "slide"
    }
   },
   "outputs": [
    {
     "name": "stdout",
     "output_type": "stream",
     "text": [
      "[<__main__.Product object at 0x000002108105F640>, <__main__.Product object at 0x000002108105F3D0>, <__main__.Product object at 0x000002108105F310>, <__main__.Product object at 0x000002108105FF70>, <__main__.Product object at 0x0000021081165190>, <__main__.Product object at 0x0000021081165580>, <__main__.Product object at 0x0000021081165CA0>, <__main__.Product object at 0x0000021081165820>, <__main__.Product object at 0x00000210811655E0>, <__main__.Product object at 0x00000210811655B0>]\n",
      "{'name': 0, 'qty': 0}\n"
     ]
    },
    {
     "data": {
      "text/html": [
       "<div>\n",
       "<style scoped>\n",
       "    .dataframe tbody tr th:only-of-type {\n",
       "        vertical-align: middle;\n",
       "    }\n",
       "\n",
       "    .dataframe tbody tr th {\n",
       "        vertical-align: top;\n",
       "    }\n",
       "\n",
       "    .dataframe thead th {\n",
       "        text-align: right;\n",
       "    }\n",
       "</style>\n",
       "<table border=\"1\" class=\"dataframe\">\n",
       "  <thead>\n",
       "    <tr style=\"text-align: right;\">\n",
       "      <th></th>\n",
       "      <th>0</th>\n",
       "    </tr>\n",
       "  </thead>\n",
       "  <tbody>\n",
       "    <tr>\n",
       "      <th>0</th>\n",
       "      <td>&lt;__main__.Product object at 0x000002108105F640&gt;</td>\n",
       "    </tr>\n",
       "    <tr>\n",
       "      <th>1</th>\n",
       "      <td>&lt;__main__.Product object at 0x000002108105F3D0&gt;</td>\n",
       "    </tr>\n",
       "    <tr>\n",
       "      <th>2</th>\n",
       "      <td>&lt;__main__.Product object at 0x000002108105F310&gt;</td>\n",
       "    </tr>\n",
       "    <tr>\n",
       "      <th>3</th>\n",
       "      <td>&lt;__main__.Product object at 0x000002108105FF70&gt;</td>\n",
       "    </tr>\n",
       "    <tr>\n",
       "      <th>4</th>\n",
       "      <td>&lt;__main__.Product object at 0x0000021081165190&gt;</td>\n",
       "    </tr>\n",
       "    <tr>\n",
       "      <th>5</th>\n",
       "      <td>&lt;__main__.Product object at 0x0000021081165580&gt;</td>\n",
       "    </tr>\n",
       "    <tr>\n",
       "      <th>6</th>\n",
       "      <td>&lt;__main__.Product object at 0x0000021081165CA0&gt;</td>\n",
       "    </tr>\n",
       "    <tr>\n",
       "      <th>7</th>\n",
       "      <td>&lt;__main__.Product object at 0x0000021081165820&gt;</td>\n",
       "    </tr>\n",
       "    <tr>\n",
       "      <th>8</th>\n",
       "      <td>&lt;__main__.Product object at 0x00000210811655E0&gt;</td>\n",
       "    </tr>\n",
       "    <tr>\n",
       "      <th>9</th>\n",
       "      <td>&lt;__main__.Product object at 0x00000210811655B0&gt;</td>\n",
       "    </tr>\n",
       "  </tbody>\n",
       "</table>\n",
       "</div>"
      ],
      "text/plain": [
       "                                                 0\n",
       "0  <__main__.Product object at 0x000002108105F640>\n",
       "1  <__main__.Product object at 0x000002108105F3D0>\n",
       "2  <__main__.Product object at 0x000002108105F310>\n",
       "3  <__main__.Product object at 0x000002108105FF70>\n",
       "4  <__main__.Product object at 0x0000021081165190>\n",
       "5  <__main__.Product object at 0x0000021081165580>\n",
       "6  <__main__.Product object at 0x0000021081165CA0>\n",
       "7  <__main__.Product object at 0x0000021081165820>\n",
       "8  <__main__.Product object at 0x00000210811655E0>\n",
       "9  <__main__.Product object at 0x00000210811655B0>"
      ]
     },
     "execution_count": 37,
     "metadata": {},
     "output_type": "execute_result"
    }
   ],
   "source": [
    "print(products)\n",
    "print(products[0].__dict__)\n",
    "df"
   ]
  },
  {
   "cell_type": "code",
   "execution_count": 43,
   "id": "ac432aca",
   "metadata": {
    "ExecuteTime": {
     "end_time": "2023-02-05T07:16:37.639201Z",
     "start_time": "2023-02-05T07:16:37.629200Z"
    },
    "slideshow": {
     "slide_type": "slide"
    }
   },
   "outputs": [],
   "source": [
    "from dataclasses import dataclass\n",
    "import pandas as pd\n",
    "\n",
    "@dataclass\n",
    "class Product:\n",
    "    name: str\n",
    "    qty: int\n",
    "\n",
    "products = []\n",
    "for i in range(10):\n",
    "    products.append(Product(name=i, qty=i*2))\n",
    "df = pd.DataFrame(products)"
   ]
  },
  {
   "cell_type": "code",
   "execution_count": 44,
   "id": "b3cc4e10",
   "metadata": {
    "ExecuteTime": {
     "end_time": "2023-02-05T07:16:38.341223Z",
     "start_time": "2023-02-05T07:16:38.327279Z"
    }
   },
   "outputs": [
    {
     "name": "stdout",
     "output_type": "stream",
     "text": [
      "[Product(name=0, qty=0), Product(name=1, qty=2), Product(name=2, qty=4), Product(name=3, qty=6), Product(name=4, qty=8), Product(name=5, qty=10), Product(name=6, qty=12), Product(name=7, qty=14), Product(name=8, qty=16), Product(name=9, qty=18)]\n"
     ]
    },
    {
     "data": {
      "text/html": [
       "<div>\n",
       "<style scoped>\n",
       "    .dataframe tbody tr th:only-of-type {\n",
       "        vertical-align: middle;\n",
       "    }\n",
       "\n",
       "    .dataframe tbody tr th {\n",
       "        vertical-align: top;\n",
       "    }\n",
       "\n",
       "    .dataframe thead th {\n",
       "        text-align: right;\n",
       "    }\n",
       "</style>\n",
       "<table border=\"1\" class=\"dataframe\">\n",
       "  <thead>\n",
       "    <tr style=\"text-align: right;\">\n",
       "      <th></th>\n",
       "      <th>name</th>\n",
       "      <th>qty</th>\n",
       "    </tr>\n",
       "  </thead>\n",
       "  <tbody>\n",
       "    <tr>\n",
       "      <th>0</th>\n",
       "      <td>0</td>\n",
       "      <td>0</td>\n",
       "    </tr>\n",
       "    <tr>\n",
       "      <th>1</th>\n",
       "      <td>1</td>\n",
       "      <td>2</td>\n",
       "    </tr>\n",
       "    <tr>\n",
       "      <th>2</th>\n",
       "      <td>2</td>\n",
       "      <td>4</td>\n",
       "    </tr>\n",
       "    <tr>\n",
       "      <th>3</th>\n",
       "      <td>3</td>\n",
       "      <td>6</td>\n",
       "    </tr>\n",
       "    <tr>\n",
       "      <th>4</th>\n",
       "      <td>4</td>\n",
       "      <td>8</td>\n",
       "    </tr>\n",
       "  </tbody>\n",
       "</table>\n",
       "</div>"
      ],
      "text/plain": [
       "   name  qty\n",
       "0     0    0\n",
       "1     1    2\n",
       "2     2    4\n",
       "3     3    6\n",
       "4     4    8"
      ]
     },
     "execution_count": 44,
     "metadata": {},
     "output_type": "execute_result"
    }
   ],
   "source": [
    "print(products)\n",
    "df.head()"
   ]
  },
  {
   "cell_type": "markdown",
   "id": "b95918a3",
   "metadata": {
    "slideshow": {
     "slide_type": "slide"
    }
   },
   "source": [
    "## Python 3.8\n",
    "* :=海象賦值 &rarr; (variable_name := expression)，用於if, while等協助減少呼叫asssignment的次數以及順暢邏輯\n",
    "* 詳細定義位置參數以及關鍵字參數的區隔\n",
    "* fstring可用=直接表示變數\n",
    "* typing模組的改進:Python是動態類型語言，但可以通過typing模組添加類型提示，以便協力廠商工具驗證Python代碼。Python 3.8給typing添加了一些新元素，因此它能夠支援更健壯的檢查：\n",
    "    - final修飾器和Final類型標注表明，被修飾或被標注的物件在任何時候都不應該被重寫、繼承，也不能被重新賦值。\n",
    "    - Literal類型將運算式限定為特定的值或值的列表（不一定是同一個類型的值）。\n",
    "    - TypedDict可以用來創建字典，其特定鍵的值被限制在一個或多個類型上。注意這些限制僅用於編譯時確定值的合法性，而不能在運行時進行限制。"
   ]
  },
  {
   "cell_type": "markdown",
   "id": "19ff39f4",
   "metadata": {
    "slideshow": {
     "slide_type": "slide"
    }
   },
   "source": [
    ":=海象符號 (walrus operator) &rarr; (variable_name := expression)"
   ]
  },
  {
   "cell_type": "code",
   "execution_count": 102,
   "id": "a72e010e",
   "metadata": {
    "ExecuteTime": {
     "end_time": "2023-02-04T19:38:55.058344Z",
     "start_time": "2023-02-04T19:38:55.052342Z"
    },
    "slideshow": {
     "slide_type": "-"
    }
   },
   "outputs": [
    {
     "name": "stdout",
     "output_type": "stream",
     "text": [
      "do something...\n",
      "5\n",
      "do something...\n",
      "5\n",
      "7\n"
     ]
    }
   ],
   "source": [
    "#:=海象符號 (walrus operator) -> (variable_name := expression)\n",
    "#original \n",
    "a = 5\n",
    "if (a >= 3):\n",
    "    print('do something...')\n",
    "    print(a)\n",
    "### by :=\n",
    "if (a:=5)>=(3):\n",
    "    print('do something...')\n",
    "    print(a)\n",
    "### another case\n",
    "a = 'abcdefg'\n",
    "if (n:=len(a))>=2:\n",
    "    print(n) #we don't need to use len(a) twice."
   ]
  },
  {
   "cell_type": "code",
   "execution_count": 103,
   "id": "d925b178",
   "metadata": {
    "ExecuteTime": {
     "end_time": "2023-02-04T19:38:56.862346Z",
     "start_time": "2023-02-04T19:38:56.849361Z"
    },
    "slideshow": {
     "slide_type": "slide"
    }
   },
   "outputs": [
    {
     "name": "stdout",
     "output_type": "stream",
     "text": [
      "original \n",
      "3\n",
      "2\n",
      "1\n",
      "by :=\n",
      "3\n",
      "2\n",
      "1\n"
     ]
    }
   ],
   "source": [
    "#original \n",
    "print(\"original \")\n",
    "n = 3\n",
    "while (n):\n",
    "    print(n)\n",
    "    n -= 1\n",
    "print(\"by :=\")\n",
    "#by :=\n",
    "n = 4\n",
    "while (n:=n-1):\n",
    "    print(n)"
   ]
  },
  {
   "cell_type": "markdown",
   "id": "d308c636",
   "metadata": {
    "slideshow": {
     "slide_type": "slide"
    }
   },
   "source": [
    "詳細定義位置參數以及關鍵字參數的區隔"
   ]
  },
  {
   "cell_type": "code",
   "execution_count": 104,
   "id": "d6809979",
   "metadata": {
    "ExecuteTime": {
     "end_time": "2023-02-04T19:39:18.864084Z",
     "start_time": "2023-02-04T19:39:18.839085Z"
    },
    "collapsed": true,
    "slideshow": {
     "slide_type": "-"
    }
   },
   "outputs": [
    {
     "name": "stdout",
     "output_type": "stream",
     "text": [
      "10 20 30 40 50 60\n",
      "10 20 30 40 50 60\n"
     ]
    },
    {
     "ename": "TypeError",
     "evalue": "f() got some positional-only arguments passed as keyword arguments: 'b'",
     "output_type": "error",
     "traceback": [
      "\u001b[1;31m---------------------------------------------------------------------------\u001b[0m",
      "\u001b[1;31mTypeError\u001b[0m                                 Traceback (most recent call last)",
      "Cell \u001b[1;32mIn[104], line 7\u001b[0m\n\u001b[0;32m      5\u001b[0m f(\u001b[38;5;241m10\u001b[39m, \u001b[38;5;241m20\u001b[39m, \u001b[38;5;241m30\u001b[39m, d\u001b[38;5;241m=\u001b[39m\u001b[38;5;241m40\u001b[39m, e\u001b[38;5;241m=\u001b[39m\u001b[38;5;241m50\u001b[39m, f\u001b[38;5;241m=\u001b[39m\u001b[38;5;241m60\u001b[39m) \u001b[38;5;66;03m#valid\u001b[39;00m\n\u001b[0;32m      6\u001b[0m f(\u001b[38;5;241m10\u001b[39m, \u001b[38;5;241m20\u001b[39m, \u001b[38;5;241m30\u001b[39m, \u001b[38;5;241m40\u001b[39m, e\u001b[38;5;241m=\u001b[39m\u001b[38;5;241m50\u001b[39m, f\u001b[38;5;241m=\u001b[39m\u001b[38;5;241m60\u001b[39m) \u001b[38;5;66;03m#valid\u001b[39;00m\n\u001b[1;32m----> 7\u001b[0m \u001b[43mf\u001b[49m\u001b[43m(\u001b[49m\u001b[38;5;241;43m10\u001b[39;49m\u001b[43m,\u001b[49m\u001b[43m \u001b[49m\u001b[43mb\u001b[49m\u001b[38;5;241;43m=\u001b[39;49m\u001b[38;5;241;43m20\u001b[39;49m\u001b[43m,\u001b[49m\u001b[43m \u001b[49m\u001b[43mc\u001b[49m\u001b[38;5;241;43m=\u001b[39;49m\u001b[38;5;241;43m30\u001b[39;49m\u001b[43m,\u001b[49m\u001b[43m \u001b[49m\u001b[43md\u001b[49m\u001b[38;5;241;43m=\u001b[39;49m\u001b[38;5;241;43m40\u001b[39;49m\u001b[43m,\u001b[49m\u001b[43m \u001b[49m\u001b[43me\u001b[49m\u001b[38;5;241;43m=\u001b[39;49m\u001b[38;5;241;43m50\u001b[39;49m\u001b[43m,\u001b[49m\u001b[43m \u001b[49m\u001b[43mf\u001b[49m\u001b[38;5;241;43m=\u001b[39;49m\u001b[38;5;241;43m60\u001b[39;49m\u001b[43m)\u001b[49m \u001b[38;5;66;03m#invalid\u001b[39;00m\n\u001b[0;32m      8\u001b[0m \u001b[38;5;66;03m#f(10, 20, 30, 40, 50, f=60) #invalid\u001b[39;00m\n",
      "\u001b[1;31mTypeError\u001b[0m: f() got some positional-only arguments passed as keyword arguments: 'b'"
     ]
    }
   ],
   "source": [
    "#詳細定義位置參數以及關鍵字參數的區隔\n",
    "def f(a, b, /, c, d, *, e, f):   #a, b can be position/ c, d can be posion and keyword/ e, f can be keyword...\n",
    "    print(a, b, c, d, e, f)\n",
    "\n",
    "f(10, 20, 30, d=40, e=50, f=60) #valid\n",
    "f(10, 20, 30, 40, e=50, f=60) #valid\n",
    "f(10, b=20, c=30, d=40, e=50, f=60) #invalid\n",
    "#f(10, 20, 30, 40, 50, f=60) #invalid"
   ]
  },
  {
   "cell_type": "markdown",
   "id": "15f4bcea",
   "metadata": {
    "slideshow": {
     "slide_type": "slide"
    }
   },
   "source": [
    "fstring可用=直接表示變數"
   ]
  },
  {
   "cell_type": "code",
   "execution_count": 47,
   "id": "3fd253f0",
   "metadata": {
    "ExecuteTime": {
     "end_time": "2023-02-03T19:21:49.261339Z",
     "start_time": "2023-02-03T19:21:49.244341Z"
    },
    "slideshow": {
     "slide_type": "-"
    }
   },
   "outputs": [
    {
     "name": "stdout",
     "output_type": "stream",
     "text": [
      "user='eric_idle' member_since=datetime.date(1975, 7, 31)\n",
      "user=eric_idle  delta.days=17,355\n"
     ]
    }
   ],
   "source": [
    "# fstring可用=直接表示變數\n",
    "import datetime\n",
    "user = 'eric_idle'  \n",
    "member_since = datetime.date(1975, 7, 31)    \n",
    "print(f'{user=} {member_since=}' )\n",
    "delta = datetime.date.today() - member_since \n",
    "print(f'{user=!s}  {delta.days=:,d}')"
   ]
  },
  {
   "cell_type": "markdown",
   "id": "3a397831",
   "metadata": {
    "slideshow": {
     "slide_type": "slide"
    }
   },
   "source": [
    "**Typing module introduction**"
   ]
  },
  {
   "cell_type": "code",
   "execution_count": 19,
   "id": "11068d19",
   "metadata": {
    "ExecuteTime": {
     "end_time": "2023-02-04T04:55:42.762487Z",
     "start_time": "2023-02-04T04:55:42.748460Z"
    }
   },
   "outputs": [],
   "source": [
    "#General use\n",
    "def get_value(json: str) -> str:\n",
    "#meaing that json \"should\" be str adn return value \"should\" be str (but it is not force.)\n",
    "     x = parse(json)\n",
    "     return x"
   ]
  },
  {
   "cell_type": "markdown",
   "id": "2605a829",
   "metadata": {
    "slideshow": {
     "slide_type": "slide"
    }
   },
   "source": [
    "**typing.List**  \n",
    "Python 內建的型別（例如： int, float, dict, list, …）可以直接使用型別註釋，但如果是較複雜的資料型別就需要 typing 模組的輔助。"
   ]
  },
  {
   "cell_type": "code",
   "execution_count": 24,
   "id": "588258f1",
   "metadata": {
    "ExecuteTime": {
     "end_time": "2023-02-04T05:11:47.728833Z",
     "start_time": "2023-02-04T05:11:47.725832Z"
    }
   },
   "outputs": [
    {
     "name": "stdout",
     "output_type": "stream",
     "text": [
      "[3, 3, 3]\n",
      "[3, 'test']\n"
     ]
    }
   ],
   "source": [
    "from typing import List\n",
    "\n",
    "def list_fun(l: List[int]):  # 表達都是 int 的列表(list)\n",
    "    print(l)\n",
    "\n",
    "list_fun([3, 3, 3])\n",
    "list_fun([3, 'test'])"
   ]
  },
  {
   "cell_type": "markdown",
   "id": "10a247b6",
   "metadata": {
    "slideshow": {
     "slide_type": "slide"
    }
   },
   "source": [
    "**typing.Union**  \n",
    "一次接受多種型別"
   ]
  },
  {
   "cell_type": "code",
   "execution_count": 31,
   "id": "fdfdc474",
   "metadata": {
    "ExecuteTime": {
     "end_time": "2023-02-04T05:15:54.256246Z",
     "start_time": "2023-02-04T05:15:54.238236Z"
    }
   },
   "outputs": [
    {
     "name": "stdout",
     "output_type": "stream",
     "text": [
      "Got True\n"
     ]
    }
   ],
   "source": [
    "from typing import Union\n",
    "def print_something(x: Union[int, str]):\n",
    "    if isinstance(x, (int, str, )):#isinstance(object, classinfo)用來判斷型別\n",
    "        print(f'Got {x}') \n",
    "    else:\n",
    "        raise TypeError('Only int & str are accepted')\n",
    "print_something(True)\n",
    "#print_something(20.7)"
   ]
  },
  {
   "cell_type": "markdown",
   "id": "94737669",
   "metadata": {
    "slideshow": {
     "slide_type": "slide"
    }
   },
   "source": [
    "**typing.Dict**  \n",
    "通常使用字典(Dictionary)時，我們會存放一致型別的資料在字典中，例如以下的 word_count_mapping ， key 是字串， value 是整數  \n",
    "word_count_mapping = {\n",
    "    'zoo': 1,\n",
    "    'zip': 2,\n",
    "    'google': 10,\n",
    "    'python': 12,\n",
    "}"
   ]
  },
  {
   "cell_type": "code",
   "execution_count": 4,
   "id": "24d353ce",
   "metadata": {
    "ExecuteTime": {
     "end_time": "2023-02-04T13:40:30.764483Z",
     "start_time": "2023-02-04T13:40:30.760480Z"
    }
   },
   "outputs": [
    {
     "name": "stdout",
     "output_type": "stream",
     "text": [
      "{'zoo': 1, 'zip': 2, 'google': 10, 'python': 12, 'test': 30}\n"
     ]
    }
   ],
   "source": [
    "from typing import Dict\n",
    "word_count_mapping:Dict[str, int]= {\n",
    "    'zoo': 1, 'zip': 2, \n",
    "    'google': 10, \n",
    "    'python': 12,\n",
    "}\n",
    "\n",
    "def update_count(mapping: Dict[str, int], key: str, count: int):\n",
    "    mapping[key] = count\n",
    "    \n",
    "update_count(word_count_mapping,'test', 30)\n",
    "print(word_count_mapping)\n",
    "#Optional[dict[str, str]], # 可以是 None 或者是從 str 映射到 str 的 dict"
   ]
  },
  {
   "cell_type": "markdown",
   "id": "40a15646",
   "metadata": {
    "slideshow": {
     "slide_type": "slide"
    }
   },
   "source": [
    "**typing.TypedDict**  \n",
    "為字典型的變數規定格式"
   ]
  },
  {
   "cell_type": "code",
   "execution_count": 47,
   "id": "b9c7345a",
   "metadata": {
    "ExecuteTime": {
     "end_time": "2023-02-04T06:37:54.172656Z",
     "start_time": "2023-02-04T06:37:54.153591Z"
    }
   },
   "outputs": [
    {
     "name": "stdout",
     "output_type": "stream",
     "text": [
      "abc\n"
     ]
    }
   ],
   "source": [
    "from typing import TypedDict\n",
    "class LoginDict(TypedDict):\n",
    "    username: str\n",
    "    password: str\n",
    "\n",
    "login_dict: LoginDict = {\n",
    "    'username': 'abc',\n",
    "    'password': 'pass123456',\n",
    "    #'car':NotRequired[str] 非必填element in python 3.11.\n",
    "}\n",
    "\n",
    "def valid_username_password(login_dict: LoginDict):\n",
    "    print(login_dict['username'])\n",
    "    \n",
    "valid_username_password(login_dict)"
   ]
  },
  {
   "cell_type": "markdown",
   "id": "398d729c",
   "metadata": {
    "slideshow": {
     "slide_type": "slide"
    }
   },
   "source": [
    "**typing.Iterable**  \n",
    "Python 中所謂的 Iterable 指的是有實作 __iter__() 與 __next__() 的物件(object)，例如 str, dict, list, tuple 都是 Iterable ，所以都能夠透過 for 走訪，因此如果是可以接受 Iterable 的函式或方法，可以使用 typing.Iterable 進行標示："
   ]
  },
  {
   "cell_type": "code",
   "execution_count": 49,
   "id": "399a2ec8",
   "metadata": {
    "ExecuteTime": {
     "end_time": "2023-02-04T06:40:47.218352Z",
     "start_time": "2023-02-04T06:40:47.206809Z"
    }
   },
   "outputs": [
    {
     "name": "stdout",
     "output_type": "stream",
     "text": [
      "0\n",
      "1\n",
      "2\n"
     ]
    }
   ],
   "source": [
    "from typing import Iterable\n",
    "\n",
    "def print_iterable(x: Iterable):\n",
    "    for i in x:\n",
    "        print(i)\n",
    "print_iterable(range(3))"
   ]
  },
  {
   "cell_type": "markdown",
   "id": "85330081",
   "metadata": {
    "slideshow": {
     "slide_type": "slide"
    }
   },
   "source": [
    "**typing.Optional**  \n",
    "可接受None以及其他型別，同於Optional[X, list]...等"
   ]
  },
  {
   "cell_type": "code",
   "execution_count": 5,
   "id": "f66618f3",
   "metadata": {
    "ExecuteTime": {
     "end_time": "2023-02-04T13:58:43.626519Z",
     "start_time": "2023-02-04T13:58:43.613492Z"
    }
   },
   "outputs": [],
   "source": [
    "from typing import Optional\n",
    "def foo(a: Optional[list] = None):\n",
    "    if a is None:\n",
    "        a = []\n",
    "    a.append(5)\n",
    "    return a"
   ]
  },
  {
   "cell_type": "markdown",
   "id": "27ec6a0b",
   "metadata": {
    "slideshow": {
     "slide_type": "slide"
    }
   },
   "source": [
    "**typing.Any**\n",
    "如果是不限定型別的情況下，可以使用 typing.Any (or object)"
   ]
  },
  {
   "cell_type": "code",
   "execution_count": 56,
   "id": "59983460",
   "metadata": {
    "ExecuteTime": {
     "end_time": "2023-02-04T06:52:46.405926Z",
     "start_time": "2023-02-04T06:52:46.388897Z"
    }
   },
   "outputs": [
    {
     "name": "stdout",
     "output_type": "stream",
     "text": [
      "1 2 3\n"
     ]
    }
   ],
   "source": [
    "from typing import Any\n",
    "def print_all(*obj: Any): #def print_all(*obj:object):\n",
    "    print(*obj)\n",
    "\n",
    "print_all(*[1,2,3])"
   ]
  },
  {
   "cell_type": "markdown",
   "id": "94ee0ff3",
   "metadata": {
    "slideshow": {
     "slide_type": "-"
    }
   },
   "source": [
    "最後，可透過型別檢查器(type checker)幫助我們偵測誤用/錯用型別的情況，例如 mypy"
   ]
  },
  {
   "cell_type": "markdown",
   "id": "d90ce9ce",
   "metadata": {
    "lang": "zh-tw",
    "slideshow": {
     "slide_type": "slide"
    }
   },
   "source": [
    "## Python 3.9\n",
    "* 字典更新和合併：|運算符用於合併字典，|= 運算符用於更新字典\n",
    "* 最小公倍數 math.LCM* Python 3.9 將兩個新函數添加到 str 對象：\n",
    "  - 第一個函數用於刪除前綴：str.removeprefix(prefix)\n",
    "  - 第二個函數用於刪除後綴：str.removesuffix(suffix)\n",
    "* 對異步編程（asyncio）和多進程庫進行了優化\n",
    "* 增加randbytes"
   ]
  },
  {
   "cell_type": "code",
   "execution_count": 70,
   "id": "2f75c670",
   "metadata": {
    "ExecuteTime": {
     "end_time": "2023-02-03T19:44:32.465260Z",
     "start_time": "2023-02-03T19:44:32.455260Z"
    },
    "slideshow": {
     "slide_type": "slide"
    }
   },
   "outputs": [
    {
     "name": "stdout",
     "output_type": "stream",
     "text": [
      "{'farhad': 'malik', 'blog': 2, 'python': 3, 'topic': 'python3.9'}\n"
     ]
    }
   ],
   "source": [
    "#字典更新和合併：|運算符用於合併字典，|= 運算符用於更新字典\n",
    "a = {'farhad': 1, 'blog': 2,'python': 3}\n",
    "b = {'farhad': 'malik','topic': 'python3.9'}\n",
    "print(a | b)\n",
    "#print(a |= b)"
   ]
  },
  {
   "cell_type": "code",
   "execution_count": 71,
   "id": "d198be1a",
   "metadata": {
    "ExecuteTime": {
     "end_time": "2023-02-03T19:45:39.348748Z",
     "start_time": "2023-02-03T19:45:39.333759Z"
    },
    "slideshow": {
     "slide_type": "slide"
    }
   },
   "outputs": [
    {
     "name": "stdout",
     "output_type": "stream",
     "text": [
      "python\n",
      "farhad\n"
     ]
    }
   ],
   "source": [
    "#removeprefix\n",
    "print('farhad_python'.removeprefix('farhad_'))\n",
    "# returns python\n",
    "print('farhad_python'.removesuffix('_python'))\n",
    "# returns farhad"
   ]
  },
  {
   "cell_type": "code",
   "execution_count": 3,
   "id": "4e711749",
   "metadata": {
    "ExecuteTime": {
     "end_time": "2023-02-04T07:45:47.336017Z",
     "start_time": "2023-02-04T07:45:47.327018Z"
    },
    "slideshow": {
     "slide_type": "slide"
    }
   },
   "outputs": [
    {
     "name": "stdout",
     "output_type": "stream",
     "text": [
      "7\n",
      "98\n"
     ]
    }
   ],
   "source": [
    "#GCD and LCM\n",
    "import math\n",
    "print(math.gcd(49,14))\n",
    "print(math.lcm(49, 14))"
   ]
  },
  {
   "cell_type": "markdown",
   "id": "26802f0d",
   "metadata": {
    "slideshow": {
     "slide_type": "slide"
    }
   },
   "source": [
    "# 截至(2023/02/04)anaconda尚未更新"
   ]
  },
  {
   "cell_type": "markdown",
   "id": "14cae05b",
   "metadata": {
    "slideshow": {
     "slide_type": "-"
    }
   },
   "source": [
    "## Python 3.10\n",
    "* switch case判斷式\n",
    "* 顯示詳細的錯誤資訊\n",
    "* Union可以用其他運算子代替\n",
    "* 嚴謹的zip\n",
    "* with語法可以一次開多個檔案"
   ]
  },
  {
   "cell_type": "code",
   "execution_count": 2,
   "id": "1dc064e3",
   "metadata": {
    "ExecuteTime": {
     "end_time": "2023-02-04T07:45:32.805871Z",
     "start_time": "2023-02-04T07:45:32.755065Z"
    }
   },
   "outputs": [
    {
     "name": "stdout",
     "output_type": "stream",
     "text": [
      "Python 3.9.16\n"
     ]
    }
   ],
   "source": [
    "!python --version"
   ]
  },
  {
   "cell_type": "code",
   "execution_count": 5,
   "id": "c1b44a07",
   "metadata": {
    "ExecuteTime": {
     "end_time": "2023-02-04T04:05:15.399619Z",
     "start_time": "2023-02-04T04:05:15.390099Z"
    },
    "collapsed": true,
    "slideshow": {
     "slide_type": "slide"
    }
   },
   "outputs": [
    {
     "ename": "SyntaxError",
     "evalue": "invalid syntax (1523415427.py, line 4)",
     "output_type": "error",
     "traceback": [
      "\u001b[1;36m  Cell \u001b[1;32mIn[5], line 4\u001b[1;36m\u001b[0m\n\u001b[1;33m    match (n):\u001b[0m\n\u001b[1;37m              ^\u001b[0m\n\u001b[1;31mSyntaxError\u001b[0m\u001b[1;31m:\u001b[0m invalid syntax\n"
     ]
    }
   ],
   "source": [
    "#match code\n",
    "def main():\n",
    "    n = 3\n",
    "    match (n):\n",
    "        case (1):\n",
    "            print(\"OK\")\n",
    "        case (2):\n",
    "            print(\"YES\")\n",
    "        case (3):\n",
    "            print(\"THANKS\")\n",
    "        case _:\n",
    "            print(\"Something error\")\n",
    "        \n",
    "\n",
    "if __name__ == \"__main__\":\n",
    "    main()"
   ]
  },
  {
   "cell_type": "code",
   "execution_count": 77,
   "id": "e52ddbef",
   "metadata": {
    "ExecuteTime": {
     "end_time": "2023-02-03T19:50:57.710763Z",
     "start_time": "2023-02-03T19:50:57.679305Z"
    },
    "collapsed": true
   },
   "outputs": [
    {
     "ename": "ZeroDivisionError",
     "evalue": "division by zero",
     "output_type": "error",
     "traceback": [
      "\u001b[1;31m---------------------------------------------------------------------------\u001b[0m",
      "\u001b[1;31mZeroDivisionError\u001b[0m                         Traceback (most recent call last)",
      "Cell \u001b[1;32mIn[77], line 5\u001b[0m\n\u001b[0;32m      2\u001b[0m     \u001b[38;5;28mprint\u001b[39m(a\u001b[38;5;241m/\u001b[39mb)\n\u001b[0;32m      3\u001b[0m     \u001b[38;5;28;01mreturn\u001b[39;00m\n\u001b[1;32m----> 5\u001b[0m \u001b[43msum_\u001b[49m\u001b[43m(\u001b[49m\u001b[38;5;241;43m12\u001b[39;49m\u001b[43m,\u001b[49m\u001b[38;5;241;43m0\u001b[39;49m\u001b[43m)\u001b[49m\n",
      "Cell \u001b[1;32mIn[77], line 2\u001b[0m, in \u001b[0;36msum_\u001b[1;34m(a, b)\u001b[0m\n\u001b[0;32m      1\u001b[0m \u001b[38;5;28;01mdef\u001b[39;00m \u001b[38;5;21msum_\u001b[39m(a:\u001b[38;5;28mint\u001b[39m, b:\u001b[38;5;28mint\u001b[39m):\n\u001b[1;32m----> 2\u001b[0m     \u001b[38;5;28mprint\u001b[39m(\u001b[43ma\u001b[49m\u001b[38;5;241;43m/\u001b[39;49m\u001b[43mb\u001b[49m)\n\u001b[0;32m      3\u001b[0m     \u001b[38;5;28;01mreturn\u001b[39;00m\n",
      "\u001b[1;31mZeroDivisionError\u001b[0m: division by zero"
     ]
    }
   ],
   "source": [
    "def sum_(a:int, b:int):\n",
    "    print(a/b)\n",
    "    return\n",
    "\n",
    "sum_(12,0)"
   ]
  },
  {
   "cell_type": "markdown",
   "id": "6e420d85",
   "metadata": {
    "slideshow": {
     "slide_type": "slide"
    }
   },
   "source": [
    "## Python 3.11\n",
    "* 比上一个版本快60% (The most important one)\n",
    "* 改進的錯誤提示\n",
    "* self也可以被類別提示 (from \\_\\_future\\_\\_ import annotations)\n",
    "* Typedict in typing可建立非必要元素"
   ]
  },
  {
   "cell_type": "markdown",
   "id": "7ec0c40b",
   "metadata": {},
   "source": []
  }
 ],
 "metadata": {
  "celltoolbar": "Slideshow",
  "kernelspec": {
   "display_name": "Python 3 (ipykernel)",
   "language": "python",
   "name": "python3"
  },
  "language_info": {
   "codemirror_mode": {
    "name": "ipython",
    "version": 3
   },
   "file_extension": ".py",
   "mimetype": "text/x-python",
   "name": "python",
   "nbconvert_exporter": "python",
   "pygments_lexer": "ipython3",
   "version": "3.9.16"
  },
  "nbTranslate": {
   "displayLangs": [
    "zh-tw"
   ],
   "hotkey": "alt-t",
   "langInMainMenu": true,
   "sourceLang": "zh-cn",
   "targetLang": "zh-tw",
   "useGoogleTranslate": true
  },
  "toc": {
   "base_numbering": 1,
   "nav_menu": {},
   "number_sections": true,
   "sideBar": true,
   "skip_h1_title": false,
   "title_cell": "Table of Contents",
   "title_sidebar": "Contents",
   "toc_cell": false,
   "toc_position": {},
   "toc_section_display": true,
   "toc_window_display": false
  },
  "varInspector": {
   "cols": {
    "lenName": 16,
    "lenType": 16,
    "lenVar": 40
   },
   "kernels_config": {
    "python": {
     "delete_cmd_postfix": "",
     "delete_cmd_prefix": "del ",
     "library": "var_list.py",
     "varRefreshCmd": "print(var_dic_list())"
    },
    "r": {
     "delete_cmd_postfix": ") ",
     "delete_cmd_prefix": "rm(",
     "library": "var_list.r",
     "varRefreshCmd": "cat(var_dic_list()) "
    }
   },
   "types_to_exclude": [
    "module",
    "function",
    "builtin_function_or_method",
    "instance",
    "_Feature"
   ],
   "window_display": false
  }
 },
 "nbformat": 4,
 "nbformat_minor": 5
}
