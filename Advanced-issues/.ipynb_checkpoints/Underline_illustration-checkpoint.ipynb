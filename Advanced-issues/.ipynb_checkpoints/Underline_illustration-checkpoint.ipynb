{
 "cells": [
  {
   "cell_type": "markdown",
   "id": "1d84310a",
   "metadata": {
    "toc": true
   },
   "source": [
    "<h1>Table of Contents<span class=\"tocSkip\"></span></h1>\n",
    "<div class=\"toc\"><ul class=\"toc-item\"><li><span><a href=\"#Python-underscore-skills\" data-toc-modified-id=\"Python-underscore-skills-1\"><span class=\"toc-item-num\">1&nbsp;&nbsp;</span>Python underscore skills</a></span><ul class=\"toc-item\"><li><span><a href=\"#變數中與數字中的底線-(underscore)\" data-toc-modified-id=\"變數中與數字中的底線-(underscore)-1.1\"><span class=\"toc-item-num\">1.1&nbsp;&nbsp;</span>變數中與數字中的底線 (underscore)</a></span></li><li><span><a href=\"#直譯器-(interpreter)的最近運算結果\" data-toc-modified-id=\"直譯器-(interpreter)的最近運算結果-1.2\"><span class=\"toc-item-num\">1.2&nbsp;&nbsp;</span>直譯器 (interpreter)的最近運算結果</a></span></li><li><span><a href=\"#存放想忽略的數值\" data-toc-modified-id=\"存放想忽略的數值-1.3\"><span class=\"toc-item-num\">1.3&nbsp;&nbsp;</span>存放想忽略的數值</a></span></li><li><span><a href=\"#命名-→-前單底線（_var）\" data-toc-modified-id=\"命名-→-前單底線（_var）-1.4\"><span class=\"toc-item-num\">1.4&nbsp;&nbsp;</span>命名 → 前單底線（_var）</a></span></li><li><span><a href=\"#命名-→-後單底線-(var_)\" data-toc-modified-id=\"命名-→-後單底線-(var_)-1.5\"><span class=\"toc-item-num\">1.5&nbsp;&nbsp;</span>命名 → 後單底線 (var_)</a></span></li><li><span><a href=\"#命名：前雙底線（__var）\" data-toc-modified-id=\"命名：前雙底線（__var）-1.6\"><span class=\"toc-item-num\">1.6&nbsp;&nbsp;</span>命名：前雙底線（__var）</a></span></li><li><span><a href=\"#命名：前後雙底線（__var__）\" data-toc-modified-id=\"命名：前後雙底線（__var__）-1.7\"><span class=\"toc-item-num\">1.7&nbsp;&nbsp;</span>命名：前後雙底線（__var__）</a></span></li></ul></li></ul></div>"
   ]
  },
  {
   "cell_type": "markdown",
   "id": "5620e031",
   "metadata": {
    "slideshow": {
     "slide_type": "slide"
    }
   },
   "source": [
    "# Python underscore skills\n",
    "7 種 Python 裡單底線（_）與雙底線（__）的意義還有實用技巧\n",
    "1. 常數加上底線\n",
    "2. 在直譯器中用查看最近一項運算結果\n",
    "3. 迴圈或是解包時，想忽略的數值，直接用underscore來命名\n",
    "4. 前單底線（\\_var）：告知該變數或函式是類別內部使用的命名慣例\n",
    "5. 後單底線（var\\_）：避免跟 Python 內建功能重複命名\n",
    "6. 前雙底線（\\_\\_var）：透過名字修飾機制防止子類別覆蓋變數或函式\n",
    "7. 前後雙底線（\\_\\_var__）：有特殊運作邏輯的 Magic Method\n"
   ]
  },
  {
   "cell_type": "markdown",
   "id": "c30d5de1",
   "metadata": {
    "slideshow": {
     "slide_type": "slide"
    }
   },
   "source": [
    "## 變數中與數字中的底線 (underscore)\n",
    "* 變數中的_作為變數命名\n",
    "* 數字的字面常數（Numeric Literals）加上底線後將不會影響該常數的意義，運用底線提升程式內常數的可讀性 (Ptyhon3.6+)"
   ]
  },
  {
   "cell_type": "code",
   "execution_count": 4,
   "id": "ea21cf9e",
   "metadata": {},
   "outputs": [
    {
     "name": "stdout",
     "output_type": "stream",
     "text": [
      "30000000\n",
      "30000000\n",
      "36463\n"
     ]
    }
   ],
   "source": [
    "#for example - variable\n",
    "Python_code = 'Python'\n",
    "#for exmaple - numerical\n",
    "n = 30000000\n",
    "print(n)\n",
    "n = 30_000_000 #做為,使用\n",
    "print(n)\n",
    "bin_data = 0b_1000_1110_0110_1111\n",
    "print(bin_data)"
   ]
  },
  {
   "cell_type": "markdown",
   "id": "93ca78fd",
   "metadata": {
    "slideshow": {
     "slide_type": "slide"
    }
   },
   "source": [
    "## 直譯器 (interpreter)的最近運算結果\n",
    "直譯器會將最近一個運算過的數值，儲存在名為 _（單底線）的變數裡"
   ]
  },
  {
   "cell_type": "code",
   "execution_count": 14,
   "id": "dde2416e",
   "metadata": {},
   "outputs": [
    {
     "data": {
      "text/plain": [
       "18"
      ]
     },
     "execution_count": 14,
     "metadata": {},
     "output_type": "execute_result"
    }
   ],
   "source": [
    ">>> 10+3+5"
   ]
  },
  {
   "cell_type": "code",
   "execution_count": 15,
   "id": "793ceba2",
   "metadata": {},
   "outputs": [
    {
     "data": {
      "text/plain": [
       "18"
      ]
     },
     "execution_count": 15,
     "metadata": {},
     "output_type": "execute_result"
    }
   ],
   "source": [
    "_"
   ]
  },
  {
   "cell_type": "code",
   "execution_count": 16,
   "id": "f15606de",
   "metadata": {},
   "outputs": [
    {
     "data": {
      "text/plain": [
       "45"
      ]
     },
     "execution_count": 16,
     "metadata": {},
     "output_type": "execute_result"
    }
   ],
   "source": [
    ">>> _+27 # the following calculation"
   ]
  },
  {
   "cell_type": "code",
   "execution_count": 17,
   "id": "2e4ce190",
   "metadata": {},
   "outputs": [
    {
     "data": {
      "text/plain": [
       "45"
      ]
     },
     "execution_count": 17,
     "metadata": {},
     "output_type": "execute_result"
    }
   ],
   "source": [
    "_"
   ]
  },
  {
   "cell_type": "markdown",
   "id": "d3833bcd",
   "metadata": {
    "slideshow": {
     "slide_type": "slide"
    }
   },
   "source": [
    "## 存放想忽略的數值\n",
    "\\_（單底線）本身可以是變數名稱，拿來儲存資料。非必要使用、可忽略的資料，就適合用 _ 刻意知道這個存下來的資訊不重要。  \n",
    "`for loop`：沒有用到的變數以underscore表示。"
   ]
  },
  {
   "cell_type": "code",
   "execution_count": 20,
   "id": "2ddd913d",
   "metadata": {},
   "outputs": [
    {
     "name": "stdout",
     "output_type": "stream",
     "text": [
      "你好 ʕ •ᴥ•ʔ\n",
      "你好 ʕ •ᴥ•ʔ\n",
      "你好 ʕ •ᴥ•ʔ\n",
      "\n",
      "你好 ʕ •ᴥ•ʔ\n",
      "你好 ʕ •ᴥ•ʔ\n",
      "你好 ʕ •ᴥ•ʔ\n"
     ]
    }
   ],
   "source": [
    "for i in range(3):\n",
    "    print(f\"你好 ʕ •ᴥ•ʔ\")\n",
    "#revised\n",
    "print()\n",
    "for _ in range(3):\n",
    "    print(f\"你好 ʕ •ᴥ•ʔ\")"
   ]
  },
  {
   "cell_type": "markdown",
   "id": "c68d3df4",
   "metadata": {
    "slideshow": {
     "slide_type": "slide"
    }
   },
   "source": [
    "`解包`：用解包技巧（Unpacking）把多個元素儲存在一個變數或者_"
   ]
  },
  {
   "cell_type": "code",
   "execution_count": 41,
   "id": "783c4595",
   "metadata": {},
   "outputs": [
    {
     "name": "stdout",
     "output_type": "stream",
     "text": [
      "Tom 4\n",
      "Tom 4\n",
      "Tom 4\n"
     ]
    }
   ],
   "source": [
    "# function\n",
    "def print_data(name, gender, year, school, gradelevel):\n",
    "    print(name, gradelevel)\n",
    "\n",
    "Student1 = ('Tom', '男', 2001, '東海國小', 4)\n",
    "print_data(*Student1)#('Tom', '男', 2001, '東海國小', 4)\n",
    "# assignment\n",
    "name, gender, year, school, gradelevel = ('Tom', '男', 2001, '東海國小', 4)\n",
    "print(name, gradelevel)\n",
    "##unpacking\n",
    "name, *_, gradelevel = ('Tom', '男', 2001, '東海國小', 4)\n",
    "print(name, gradelevel)"
   ]
  },
  {
   "cell_type": "markdown",
   "id": "87186486",
   "metadata": {
    "slideshow": {
     "slide_type": "slide"
    }
   },
   "source": [
    "Data Science example &rarr; `train_test_split()`隨機抽樣部分features和labels"
   ]
  },
  {
   "cell_type": "code",
   "execution_count": 42,
   "id": "687dde59",
   "metadata": {},
   "outputs": [
    {
     "name": "stdout",
     "output_type": "stream",
     "text": [
      "[[8 9]\n",
      " [4 5]\n",
      " [6 7]]\n",
      "[4, 2, 3]\n"
     ]
    }
   ],
   "source": [
    "import numpy as np\n",
    "from sklearn.model_selection import train_test_split\n",
    "\n",
    "n = 5\n",
    "X, y = np.arange(10).reshape(n,-1), range(n)\n",
    "\n",
    "#sklearn.model_selection.train_test_split(*arrays, test_size=None, train_size=None, \n",
    "#random_state=None, shuffle=True, stratify=None)[source]\n",
    "\n",
    "# ---general use---\n",
    "X_train, X_test, y_train, y_test = train_test_split(X, y, test_size=0.33)\n",
    "# ---underscore---\n",
    "X_train, _, y_train, _ = train_test_split(X, y, test_size=0.33)\n",
    "print(X_train)\n",
    "print(y_train)"
   ]
  },
  {
   "cell_type": "markdown",
   "id": "0f15eb58",
   "metadata": {
    "slideshow": {
     "slide_type": "slide"
    }
   },
   "source": [
    "## 命名 → 前單底線（\\_var）\n",
    "用於提示其他使用與閱讀你的程式碼的人，這項變數或函式是內部使用，`最好不要用`  \n",
    "但這項前單底線的命名只是慣例（Convention），並不影響使用"
   ]
  },
  {
   "cell_type": "code",
   "execution_count": 51,
   "id": "ef4c6971",
   "metadata": {
    "slideshow": {
     "slide_type": "-"
    }
   },
   "outputs": [
    {
     "name": "stdout",
     "output_type": "stream",
     "text": [
      "Tom\n",
      "資料科學家 - Tom\n"
     ]
    }
   ],
   "source": [
    "class Employee:\n",
    "    def __init__(self, name: str, job: str, salary: int = 0) -> None:\n",
    "        self.name = name\n",
    "        self.job = job\n",
    "        self.salary = salary\n",
    "        self._title = f\"{self.job} - {self.name}\"##_title變數，是我們不建議拿來外部使用的部分\n",
    "    def get_name(self):\n",
    "        return self.name\n",
    "    def _print_employee_info(self):##_print_employee_info() 函式，是我們不建議拿來外部使用的部分\n",
    "        print(f\"月薪 ${self.salary} 的 {self._title}\")\n",
    "        return None\n",
    "Tom = Employee(\"Tom\", \"資料科學家\", 22_000)\n",
    "print(Tom.name)\n",
    "print(Tom._title) #Tom.title -> error"
   ]
  },
  {
   "cell_type": "code",
   "execution_count": 75,
   "id": "eb1c4c70",
   "metadata": {
    "slideshow": {
     "slide_type": "slide"
    }
   },
   "outputs": [
    {
     "name": "stdout",
     "output_type": "stream",
     "text": [
      "Employee(name='Tom', job='資料科學家')\n",
      "月薪 $22000 的 資料科學家 - Tom\n",
      "不可改寫資料\n"
     ]
    }
   ],
   "source": [
    "from dataclasses import dataclass, field\n",
    "@dataclass\n",
    "class Employee:\n",
    "    name:str\n",
    "    job:str\n",
    "    salary:str=field(default=0, repr=False)\n",
    "    def __post_init__(self):\n",
    "        self._title = f\"{self.job} - {self.name}\"##_title變數，是我們不建議拿來外部使用的部分\n",
    "    def get_name(self):\n",
    "        return self.name\n",
    "    @property #getter\n",
    "    def print_employee_info(self):##_print_employee_info() 函式，是我們不建議拿來外部使用的部分\n",
    "        return f\"月薪 ${self.salary} 的 {self._title}\"\n",
    "    @print_employee_info.setter\n",
    "    def print_employee_info(self, _):\n",
    "        print('不可改寫資料')    \n",
    "    \n",
    "Tom = Employee(\"Tom\", \"資料科學家\", 22_000)\n",
    "print(Tom)\n",
    "print(Tom.print_employee_info)\n",
    "Tom.print_employee_info = 'Test'"
   ]
  },
  {
   "cell_type": "markdown",
   "id": "9a252f8a",
   "metadata": {
    "slideshow": {
     "slide_type": "-"
    }
   },
   "source": [
    "* 如果類別內要保護的屬性資料只有一、兩個，可以使用 @property 語法保護變數\n",
    "* 如果類別內所有的屬性資料都要被保護不被更動，請使用 dataclass 內的 frozen 功能"
   ]
  },
  {
   "cell_type": "markdown",
   "id": "10ddfb60",
   "metadata": {
    "slideshow": {
     "slide_type": "slide"
    }
   },
   "source": [
    "## 命名 → 後單底線 (var\\_)\n",
    "為了避免變數命名與 Python 內建衝突，程式設計慣例是為會與 Python 內建重複的命名後方加上單底線"
   ]
  },
  {
   "cell_type": "code",
   "execution_count": 5,
   "id": "b68cfbed",
   "metadata": {
    "collapsed": true
   },
   "outputs": [
    {
     "ename": "TypeError",
     "evalue": "'int' object is not callable",
     "output_type": "error",
     "traceback": [
      "\u001b[1;31m---------------------------------------------------------------------------\u001b[0m",
      "\u001b[1;31mTypeError\u001b[0m                                 Traceback (most recent call last)",
      "\u001b[1;32m~\\AppData\\Local\\Temp\\ipykernel_28892\\3713994818.py\u001b[0m in \u001b[0;36m<module>\u001b[1;34m\u001b[0m\n\u001b[1;32m----> 1\u001b[1;33m \u001b[0msum\u001b[0m \u001b[1;33m=\u001b[0m \u001b[0msum\u001b[0m\u001b[1;33m(\u001b[0m\u001b[0mlist\u001b[0m\u001b[1;33m(\u001b[0m\u001b[0mrange\u001b[0m\u001b[1;33m(\u001b[0m\u001b[1;36m10\u001b[0m\u001b[1;33m)\u001b[0m\u001b[1;33m)\u001b[0m\u001b[1;33m)\u001b[0m\u001b[1;33m\u001b[0m\u001b[1;33m\u001b[0m\u001b[0m\n\u001b[0m\u001b[0;32m      2\u001b[0m \u001b[0mprint\u001b[0m\u001b[1;33m(\u001b[0m\u001b[0msum\u001b[0m\u001b[1;33m)\u001b[0m\u001b[1;33m\u001b[0m\u001b[1;33m\u001b[0m\u001b[0m\n\u001b[0;32m      3\u001b[0m \u001b[0mprint\u001b[0m\u001b[1;33m(\u001b[0m\u001b[0msum\u001b[0m\u001b[1;33m(\u001b[0m\u001b[0mlist\u001b[0m\u001b[1;33m(\u001b[0m\u001b[0mrange\u001b[0m\u001b[1;33m(\u001b[0m\u001b[1;36m100\u001b[0m\u001b[1;33m)\u001b[0m\u001b[1;33m)\u001b[0m\u001b[1;33m)\u001b[0m\u001b[1;33m)\u001b[0m\u001b[1;33m\u001b[0m\u001b[1;33m\u001b[0m\u001b[0m\n",
      "\u001b[1;31mTypeError\u001b[0m: 'int' object is not callable"
     ]
    }
   ],
   "source": [
    "sum = sum(list(range(10)))\n",
    "print(sum)\n",
    "print(sum(list(range(100))))"
   ]
  },
  {
   "cell_type": "code",
   "execution_count": 6,
   "id": "6e350e4b",
   "metadata": {},
   "outputs": [
    {
     "name": "stdout",
     "output_type": "stream",
     "text": [
      "45\n"
     ]
    }
   ],
   "source": [
    "del sum\n",
    "sum_ = sum(list(range(10)))\n",
    "print(sum_)"
   ]
  },
  {
   "cell_type": "markdown",
   "id": "91d2ded3",
   "metadata": {},
   "source": [
    "有些 Python 套件裡的函式會用 class_ 當作參數命名，例如使用 BeautifulSoup 來尋找網頁元素中的某個 class 時，雖然你要找的是 CSS 的 class 屬性，但是在函式中參數必須寫 class_"
   ]
  },
  {
   "cell_type": "markdown",
   "id": "eb97a950",
   "metadata": {
    "slideshow": {
     "slide_type": "slide"
    }
   },
   "source": [
    "## 命名：前雙底線（\\_\\_var）\n",
    "雙底線則會與 Python 的運作邏輯直接相關。  \n",
    "前雙底線（__var）的功能，是避免你所創造類別（Class）內的變數或函式，被子類別所覆寫（Override）"
   ]
  },
  {
   "cell_type": "code",
   "execution_count": 35,
   "id": "add63f8d",
   "metadata": {},
   "outputs": [],
   "source": [
    "class MyClass:\n",
    "    def __init__(self):\n",
    "        self.bar = 0\n",
    "        self.foo = 1\n",
    "        self._foo = 2\n",
    "        self.foo_ = 3\n",
    "        self.__foo = 4"
   ]
  },
  {
   "cell_type": "code",
   "execution_count": 36,
   "id": "252a6b6a",
   "metadata": {
    "collapsed": true
   },
   "outputs": [
    {
     "name": "stdout",
     "output_type": "stream",
     "text": [
      "A.foo=1\n",
      "A._foo=2\n",
      "A.foo_=3\n"
     ]
    },
    {
     "ename": "AttributeError",
     "evalue": "'MyClass' object has no attribute '__foo__'",
     "output_type": "error",
     "traceback": [
      "\u001b[1;31m---------------------------------------------------------------------------\u001b[0m",
      "\u001b[1;31mAttributeError\u001b[0m                            Traceback (most recent call last)",
      "\u001b[1;32m~\\AppData\\Local\\Temp\\ipykernel_28892\\2710589808.py\u001b[0m in \u001b[0;36m<module>\u001b[1;34m\u001b[0m\n\u001b[0;32m      3\u001b[0m \u001b[0mprint\u001b[0m\u001b[1;33m(\u001b[0m\u001b[1;34mf'{A._foo=}'\u001b[0m\u001b[1;33m)\u001b[0m\u001b[1;33m\u001b[0m\u001b[1;33m\u001b[0m\u001b[0m\n\u001b[0;32m      4\u001b[0m \u001b[0mprint\u001b[0m\u001b[1;33m(\u001b[0m\u001b[1;34mf'{A.foo_=}'\u001b[0m\u001b[1;33m)\u001b[0m\u001b[1;33m\u001b[0m\u001b[1;33m\u001b[0m\u001b[0m\n\u001b[1;32m----> 5\u001b[1;33m \u001b[0mprint\u001b[0m\u001b[1;33m(\u001b[0m\u001b[1;34mf'{A.__foo__=}'\u001b[0m\u001b[1;33m)\u001b[0m \u001b[1;31m#AttributeError\u001b[0m\u001b[1;33m\u001b[0m\u001b[1;33m\u001b[0m\u001b[0m\n\u001b[0m",
      "\u001b[1;31mAttributeError\u001b[0m: 'MyClass' object has no attribute '__foo__'"
     ]
    }
   ],
   "source": [
    "A = MyClass()\n",
    "print(f'{A.foo=}')\n",
    "print(f'{A._foo=}')\n",
    "print(f'{A.foo_=}')\n",
    "print(f'{A.__foo__=}') #AttributeError"
   ]
  },
  {
   "cell_type": "markdown",
   "id": "9c47c892",
   "metadata": {
    "slideshow": {
     "slide_type": "slide"
    }
   },
   "source": [
    "\\_\\_dir__ 檢查該class的內容物"
   ]
  },
  {
   "cell_type": "code",
   "execution_count": 37,
   "id": "45d5ba03",
   "metadata": {
    "slideshow": {
     "slide_type": "-"
    }
   },
   "outputs": [
    {
     "name": "stdout",
     "output_type": "stream",
     "text": [
      "['bar', 'foo', '_foo', 'foo_', '_MyClass__foo', '__module__', '__init__', '__dict__', '__weakref__', '__doc__', '__repr__', '__hash__', '__str__', '__getattribute__', '__setattr__', '__delattr__', '__lt__', '__le__', '__eq__', '__ne__', '__gt__', '__ge__', '__new__', '__reduce_ex__', '__reduce__', '__subclasshook__', '__init_subclass__', '__format__', '__sizeof__', '__dir__', '__class__']\n",
      "\n",
      "A._MyClass__foo=4\n"
     ]
    }
   ],
   "source": [
    "print(A.__dir__()) #'_MyClass__foo'\n",
    "print()\n",
    "print(f'{A._MyClass__foo=}')"
   ]
  },
  {
   "cell_type": "markdown",
   "id": "2b64b7bc",
   "metadata": {
    "slideshow": {
     "slide_type": "-"
    }
   },
   "source": [
    "Python 直譯器主動修改你的前雙底線變數的這項行為，稱為 名字修飾（Name Mungling），它的作用是保護類別內的變數，不讓它在子類別被覆蓋掉。"
   ]
  },
  {
   "cell_type": "markdown",
   "id": "9b7531ae",
   "metadata": {
    "slideshow": {
     "slide_type": "slide"
    }
   },
   "source": [
    "建立子類別"
   ]
  },
  {
   "cell_type": "code",
   "execution_count": 39,
   "id": "e728399b",
   "metadata": {
    "slideshow": {
     "slide_type": "-"
    }
   },
   "outputs": [],
   "source": [
    "class MyChildClass(MyClass):\n",
    "    def __init__(self):\n",
    "        super().__init__()\n",
    "        self.foo = 11111\n",
    "        self._foo = 22222\n",
    "        self.foo_ = 33333\n",
    "        self.__foo = 44444\n",
    "\n",
    "A_child_class = MyChildClass()"
   ]
  },
  {
   "cell_type": "code",
   "execution_count": 49,
   "id": "d0310a61",
   "metadata": {},
   "outputs": [
    {
     "name": "stdout",
     "output_type": "stream",
     "text": [
      "0 11111 22222 33333\n",
      "['bar', 'foo', '_foo', 'foo_', '_MyClass__foo', '_MyChildClass__foo', '__module__', '__init__', '__doc__', '__dict__', '__weakref__', '__repr__', '__hash__', '__str__', '__getattribute__', '__setattr__', '__delattr__', '__lt__', '__le__', '__eq__', '__ne__', '__gt__', '__ge__', '__new__', '__reduce_ex__', '__reduce__', '__subclasshook__', '__init_subclass__', '__format__', '__sizeof__', '__dir__', '__class__']\n",
      "4\n",
      "44444\n"
     ]
    }
   ],
   "source": [
    "print(A_child_class.bar, A_child_class.foo, A_child_class._foo, A_child_class.foo_)\n",
    "print(A_child_class.__dir__())\n",
    "print(A_child_class._MyClass__foo) #the original one would not be revised.\n",
    "print(A_child_class._MyChildClass__foo)"
   ]
  },
  {
   "cell_type": "markdown",
   "id": "b8555f39",
   "metadata": {},
   "source": [
    "在類別內用前雙底線命名函式，同樣也適用名字修飾。"
   ]
  },
  {
   "cell_type": "markdown",
   "id": "57dae01e",
   "metadata": {
    "slideshow": {
     "slide_type": "slide"
    }
   },
   "source": [
    "## 命名：前後雙底線（\\_\\_var\\_\\_）\n",
    "前跟後都有雙底線命名的函式，被稱為 Magic Method 或 Dunder Method，在 Python 會用特殊的邏輯運作。  \n",
    "例如類別內總是會見到的 def \\_\\_init__(self) 代表的是建構子（Constructor），每次你創建一個實例（Instance），\\_\\_init__() 函式自動會第一個被執行。\n",
    "再以 \\_\\_lt__() 舉例，lt 是 Less Than 的縮寫，你的類別只要有實作這個函式，你就可以用小於符號（<）來呼叫該函式。"
   ]
  }
 ],
 "metadata": {
  "celltoolbar": "Slideshow",
  "kernelspec": {
   "display_name": "Python 3 (ipykernel)",
   "language": "python",
   "name": "python3"
  },
  "language_info": {
   "codemirror_mode": {
    "name": "ipython",
    "version": 3
   },
   "file_extension": ".py",
   "mimetype": "text/x-python",
   "name": "python",
   "nbconvert_exporter": "python",
   "pygments_lexer": "ipython3",
   "version": "3.9.13"
  },
  "nbTranslate": {
   "displayLangs": [
    "fr",
    "en"
   ],
   "hotkey": "alt-t",
   "langInMainMenu": true,
   "sourceLang": "en",
   "targetLang": "fr",
   "useGoogleTranslate": true
  },
  "toc": {
   "base_numbering": 1,
   "nav_menu": {},
   "number_sections": true,
   "sideBar": true,
   "skip_h1_title": false,
   "title_cell": "Table of Contents",
   "title_sidebar": "Contents",
   "toc_cell": true,
   "toc_position": {},
   "toc_section_display": true,
   "toc_window_display": false
  },
  "varInspector": {
   "cols": {
    "lenName": 16,
    "lenType": 16,
    "lenVar": 40
   },
   "kernels_config": {
    "python": {
     "delete_cmd_postfix": "",
     "delete_cmd_prefix": "del ",
     "library": "var_list.py",
     "varRefreshCmd": "print(var_dic_list())"
    },
    "r": {
     "delete_cmd_postfix": ") ",
     "delete_cmd_prefix": "rm(",
     "library": "var_list.r",
     "varRefreshCmd": "cat(var_dic_list()) "
    }
   },
   "types_to_exclude": [
    "module",
    "function",
    "builtin_function_or_method",
    "instance",
    "_Feature"
   ],
   "window_display": false
  }
 },
 "nbformat": 4,
 "nbformat_minor": 5
}
