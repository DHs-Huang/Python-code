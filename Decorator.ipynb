{
 "cells": [
  {
   "cell_type": "markdown",
   "id": "3698df60",
   "metadata": {
    "slideshow": {
     "slide_type": "slide"
    },
    "toc": true
   },
   "source": [
    "<h1>Table of Contents<span class=\"tocSkip\"></span></h1>\n",
    "<div class=\"toc\"><ul class=\"toc-item\"></ul></div>"
   ]
  },
  {
   "cell_type": "markdown",
   "id": "1b706b00",
   "metadata": {
    "slideshow": {
     "slide_type": "slide"
    }
   },
   "source": [
    "# 為什麼需要裝飾詞 decorator？\n",
    "1. 降低程式碼重複率\n",
    "2. 易讀性高\n",
    "3. 靈活度高"
   ]
  },
  {
   "cell_type": "code",
   "execution_count": 1,
   "id": "1d6fd019",
   "metadata": {
    "ExecuteTime": {
     "end_time": "2023-02-22T04:57:33.796648Z",
     "start_time": "2023-02-22T04:57:33.786648Z"
    }
   },
   "outputs": [
    {
     "name": "stdout",
     "output_type": "stream",
     "text": [
      "<function foo at 0x000001FB9F54DE50>\n",
      "bar\n"
     ]
    }
   ],
   "source": [
    "def foo():\n",
    "    return 'bar'\n",
    "\n",
    "print(foo)\n",
    "print(foo())"
   ]
  },
  {
   "cell_type": "markdown",
   "id": "19e3ffe9",
   "metadata": {
    "slideshow": {
     "slide_type": "slide"
    }
   },
   "source": [
    "## A general example - add a timer into any general function.  \n",
    "首先我們在timer將 func 變數名稱傳入; 接下來定義 def wrap(sleep_time) 函式; 並且在裡面將剛剛傳入的 func(sleep_time) 調用"
   ]
  },
  {
   "cell_type": "code",
   "execution_count": 38,
   "id": "c74b6c9f",
   "metadata": {
    "ExecuteTime": {
     "end_time": "2023-02-22T11:34:38.252877Z",
     "start_time": "2023-02-22T11:34:38.237370Z"
    },
    "slideshow": {
     "slide_type": "-"
    }
   },
   "outputs": [],
   "source": [
    "import time\n",
    " \n",
    "def timer(func): #func is the original function.\n",
    "    def wrap(sleep_time):\n",
    "        t_start = time.time()\n",
    "        func(sleep_time) #call the originial functiion\n",
    "        t_end = time.time()\n",
    "        t_count = t_end - t_start\n",
    "        print('[花費時間]', t_count)\n",
    "    return wrap"
   ]
  },
  {
   "cell_type": "code",
   "execution_count": 39,
   "id": "7bdc1bc9",
   "metadata": {
    "ExecuteTime": {
     "end_time": "2023-02-22T11:34:41.676039Z",
     "start_time": "2023-02-22T11:34:38.656974Z"
    }
   },
   "outputs": [
    {
     "name": "stdout",
     "output_type": "stream",
     "text": [
      "do some thing\n",
      "[花費時間] 3.0019407272338867\n"
     ]
    }
   ],
   "source": [
    "def dosomething(sleep_time):\n",
    "    print('do some thing')\n",
    "    time.sleep(sleep_time)\n",
    "\n",
    "foo = timer(dosomething)(3)"
   ]
  },
  {
   "cell_type": "markdown",
   "id": "0e8d9ccf",
   "metadata": {
    "slideshow": {
     "slide_type": "slide"
    }
   },
   "source": [
    "## 語法糖 (Syntax Candy)\n",
    "直接加上 @timer，並直接調用 dosomething() 函式執行"
   ]
  },
  {
   "cell_type": "code",
   "execution_count": 15,
   "id": "df298f4c",
   "metadata": {
    "ExecuteTime": {
     "end_time": "2023-02-22T09:34:22.694509Z",
     "start_time": "2023-02-22T09:34:19.678391Z"
    }
   },
   "outputs": [
    {
     "name": "stdout",
     "output_type": "stream",
     "text": [
      "do some thing\n",
      "[花費時間] 3.000098705291748\n"
     ]
    }
   ],
   "source": [
    "@timer #add timer function into dosomethin directly\n",
    "def dosomething(sleep_time):\n",
    "    print('do some thing')\n",
    "    time.sleep(sleep_time)\n",
    "\n",
    "dosomething(3)"
   ]
  },
  {
   "cell_type": "markdown",
   "id": "357b6fbc",
   "metadata": {
    "slideshow": {
     "slide_type": "slide"
    }
   },
   "source": [
    "## 裝飾詞的特性 (副作用)：函式名稱\n",
    "裝飾詞在被 wrap 包一層後，其 __name__ 屬性就會被修改成 wrap"
   ]
  },
  {
   "cell_type": "code",
   "execution_count": 16,
   "id": "c100f668",
   "metadata": {
    "ExecuteTime": {
     "end_time": "2023-02-22T09:34:22.710170Z",
     "start_time": "2023-02-22T09:34:22.695511Z"
    }
   },
   "outputs": [
    {
     "name": "stdout",
     "output_type": "stream",
     "text": [
      "wrap\n"
     ]
    }
   ],
   "source": [
    "print(dosomething.__name__)"
   ]
  },
  {
   "cell_type": "markdown",
   "id": "052ac897",
   "metadata": {
    "slideshow": {
     "slide_type": "slide"
    }
   },
   "source": [
    "使用 python 內建的 functools，只需要在 def wrap()之前，加上 @wraps(func)，即可獲得原先的 __name__ 屬性 dosomething"
   ]
  },
  {
   "cell_type": "code",
   "execution_count": 21,
   "id": "1a99edac",
   "metadata": {
    "ExecuteTime": {
     "end_time": "2023-02-22T10:35:57.116356Z",
     "start_time": "2023-02-22T10:35:57.113356Z"
    }
   },
   "outputs": [
    {
     "name": "stdout",
     "output_type": "stream",
     "text": [
      "do some thing\n",
      "[花費時間] 0.0\n",
      "dosomething\n"
     ]
    }
   ],
   "source": [
    "from functools import wraps\n",
    " \n",
    "def timer(func):\n",
    "    @wraps(func) #recover the name of the functiion\n",
    "    def wrap():\n",
    "        t_start = time.time()\n",
    "        func()\n",
    "        t_count = time.time() - t_start\n",
    "        print('[花費時間]', t_count)\n",
    "    return wrap\n",
    "\n",
    "@timer\n",
    "def dosomething():\n",
    "    print('do some thing')\n",
    "\n",
    "dosomething() # = timer(dosomething)\n",
    "print(dosomething.__name__)"
   ]
  },
  {
   "cell_type": "code",
   "execution_count": 30,
   "id": "00ab3ab2",
   "metadata": {
    "ExecuteTime": {
     "end_time": "2023-02-22T11:13:01.971325Z",
     "start_time": "2023-02-22T11:13:01.960808Z"
    },
    "slideshow": {
     "slide_type": "slide"
    }
   },
   "outputs": [
    {
     "name": "stdout",
     "output_type": "stream",
     "text": [
      "this is timer.\n",
      "this is func_print_one\n",
      "this is func_print_two\n",
      "do some thing\n",
      "[花費時間] 0.0\n"
     ]
    }
   ],
   "source": [
    "from functools import wraps\n",
    "def timer(func):\n",
    "    @wraps(func)\n",
    "    def wrap():\n",
    "        print('this is timer.')\n",
    "        t_start = time.time()\n",
    "        func()\n",
    "        t_end = time.time()\n",
    "        t_count = t_end - t_start\n",
    "        print('[花費時間]', t_count)\n",
    "    return wrap\n",
    " \n",
    "def func_print_one(func):\n",
    "    def wrap():\n",
    "        print('this is func_print_one')\n",
    "        func()\n",
    "    return wrap\n",
    " \n",
    "def func_print_two(func):\n",
    "    def wrap():\n",
    "        print('this is func_print_two')\n",
    "        func()\n",
    "    return wrap\n",
    " \n",
    "@timer\n",
    "@func_print_one\n",
    "@func_print_two\n",
    "def dosomething():\n",
    "    print('do some thing')\n",
    "\n",
    "dosomething()"
   ]
  },
  {
   "cell_type": "markdown",
   "id": "03cd3316",
   "metadata": {},
   "source": [
    "## 裝飾需要參數的函式"
   ]
  },
  {
   "cell_type": "code",
   "execution_count": 37,
   "id": "0f91b09d",
   "metadata": {
    "ExecuteTime": {
     "end_time": "2023-02-22T11:26:03.072825Z",
     "start_time": "2023-02-22T11:26:03.064317Z"
    }
   },
   "outputs": [
    {
     "name": "stdout",
     "output_type": "stream",
     "text": [
      "start...\n",
      "499500\n",
      "Elaspsed time: 2.5600002118153498e-05\n"
     ]
    }
   ],
   "source": [
    "import time\n",
    "def timer(func):\n",
    "    def wrapper(*args, **kwargs):\n",
    "        print('start...')\n",
    "        t1 = time.perf_counter()\n",
    "        func(*args, **kwargs)\n",
    "        print('Elaspsed time:', time.perf_counter()-t1)\n",
    "    return wrapper\n",
    "\n",
    "@timer\n",
    "def works(start, stop):\n",
    "    total = 0\n",
    "    for i in range(start, stop):\n",
    "        total += i\n",
    "    print(total)\n",
    "    \n",
    "works(1,1000)"
   ]
  },
  {
   "cell_type": "markdown",
   "id": "33d0d0e1",
   "metadata": {
    "slideshow": {
     "slide_type": "slide"
    }
   },
   "source": [
    "## 再加上裝飾詞的參數 (\\*args, \\**kargs)\n",
    "只需在 def wrapper() 和 func() 中加入 *args, **kargs 即可調用參數"
   ]
  },
  {
   "cell_type": "code",
   "execution_count": 42,
   "id": "992e0e00",
   "metadata": {
    "ExecuteTime": {
     "end_time": "2023-02-22T11:37:58.375987Z",
     "start_time": "2023-02-22T11:37:58.369432Z"
    }
   },
   "outputs": [
    {
     "name": "stdout",
     "output_type": "stream",
     "text": [
      "Running say_hello\n",
      "Hello Alice\n",
      "Running say_hello\n",
      "Hello Alice\n"
     ]
    }
   ],
   "source": [
    "def repeat(num):\n",
    "    \"\"\"帶參數的裝飾器\"\"\"\n",
    "    def my_decorator(func):\n",
    "        def wrapper(*args, **kwargs):\n",
    "            for i in range(num):\n",
    "                print(f\"Running {func.__name__}\")\n",
    "                func(*args, **kwargs)\n",
    "        return wrapper\n",
    "    return my_decorator\n",
    "\n",
    "@repeat(num=2)  # 使用帶有參數的裝飾器\n",
    "def say_hello(name):\n",
    "    print(f\"Hello {name}\")\n",
    "\n",
    "say_hello(\"Alice\") # => repeat(num=2)(say_hello('Alice'))"
   ]
  },
  {
   "cell_type": "markdown",
   "id": "7539d43d",
   "metadata": {
    "slideshow": {
     "slide_type": "slide"
    }
   },
   "source": [
    "## class的裝飾器\n",
    "將 wrap 寫在 __call__ 裡面來調用"
   ]
  },
  {
   "cell_type": "code",
   "execution_count": 56,
   "id": "dfd3e637",
   "metadata": {
    "ExecuteTime": {
     "end_time": "2023-02-22T12:06:54.415247Z",
     "start_time": "2023-02-22T12:06:51.393472Z"
    }
   },
   "outputs": [
    {
     "name": "stdout",
     "output_type": "stream",
     "text": [
      "--init-- time_sleep=3\n",
      "start...\n",
      "do some thing\n",
      "a + b =  3\n",
      "Elaspsed time: 3.0045147000018915\n"
     ]
    }
   ],
   "source": [
    "import time\n",
    "class timer:\n",
    "    def __init__(self, time_sleep):\n",
    "        print('--init--', f'{time_sleep=}')\n",
    "        self.time_sleep = time_sleep\n",
    "    \n",
    "    def __call__(self, func):\n",
    "        def wrapper(*args, **kwargs):\n",
    "            print('start...')\n",
    "            t1 = time.perf_counter()\n",
    "            time.sleep(self.time_sleep)\n",
    "            value = func(*args, **kwargs) #value = None            \n",
    "            print('Elaspsed time:', time.perf_counter()-t1)\n",
    "            return value\n",
    "        return wrapper\n",
    "\n",
    "@timer(time_sleep=3)\n",
    "def dosomethingClass(a, b):\n",
    "    print('do some thing')\n",
    "    print('a + b = ', a + b)\n",
    "    \n",
    "dosomethingClass(1, 2)"
   ]
  },
  {
   "cell_type": "code",
   "execution_count": null,
   "id": "10300afc",
   "metadata": {
    "slideshow": {
     "slide_type": "slide"
    }
   },
   "outputs": [],
   "source": [
    "#https://ithelp.ithome.com.tw/articles/10200763\n",
    "#https://www.maxlist.xyz/2019/12/07/python-decorator/"
   ]
  }
 ],
 "metadata": {
  "celltoolbar": "Slideshow",
  "kernelspec": {
   "display_name": "Python 3 (ipykernel)",
   "language": "python",
   "name": "python3"
  },
  "language_info": {
   "codemirror_mode": {
    "name": "ipython",
    "version": 3
   },
   "file_extension": ".py",
   "mimetype": "text/x-python",
   "name": "python",
   "nbconvert_exporter": "python",
   "pygments_lexer": "ipython3",
   "version": "3.9.13"
  },
  "nbTranslate": {
   "displayLangs": [
    "fr",
    "en"
   ],
   "hotkey": "alt-t",
   "langInMainMenu": true,
   "sourceLang": "en",
   "targetLang": "fr",
   "useGoogleTranslate": true
  },
  "toc": {
   "base_numbering": 1,
   "nav_menu": {},
   "number_sections": true,
   "sideBar": true,
   "skip_h1_title": false,
   "title_cell": "Table of Contents",
   "title_sidebar": "Contents",
   "toc_cell": true,
   "toc_position": {},
   "toc_section_display": true,
   "toc_window_display": false
  },
  "varInspector": {
   "cols": {
    "lenName": 16,
    "lenType": 16,
    "lenVar": 40
   },
   "kernels_config": {
    "python": {
     "delete_cmd_postfix": "",
     "delete_cmd_prefix": "del ",
     "library": "var_list.py",
     "varRefreshCmd": "print(var_dic_list())"
    },
    "r": {
     "delete_cmd_postfix": ") ",
     "delete_cmd_prefix": "rm(",
     "library": "var_list.r",
     "varRefreshCmd": "cat(var_dic_list()) "
    }
   },
   "types_to_exclude": [
    "module",
    "function",
    "builtin_function_or_method",
    "instance",
    "_Feature"
   ],
   "window_display": false
  }
 },
 "nbformat": 4,
 "nbformat_minor": 5
}
