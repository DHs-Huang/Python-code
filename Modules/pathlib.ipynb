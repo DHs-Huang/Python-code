{
 "cells": [
  {
   "cell_type": "markdown",
   "id": "149d8904",
   "metadata": {
    "slideshow": {
     "slide_type": "slide"
    }
   },
   "source": [
    "# 檔案和目錄管理\n",
    "Python 的 os 模組提供不少便利的功能讓我們能夠操作檔案/資料夾的路徑、操作等等。直到 Python 3.4 之後提供一個新模組 `pathlib`，將各種檔案/資料夾相關的操作封裝在 Path 等類別之中，讓檔案/資料夾的操作更加物件導向。"
   ]
  },
  {
   "cell_type": "markdown",
   "id": "fef0cef3",
   "metadata": {},
   "source": [
    "## 檢查檔案或資料夾是否存在 \n",
    "以往檢查檔案是否存在，會用類似以下的程式碼進行檢查"
   ]
  },
  {
   "cell_type": "code",
   "execution_count": 2,
   "id": "242df422",
   "metadata": {
    "ExecuteTime": {
     "end_time": "2023-03-04T06:40:24.435712Z",
     "start_time": "2023-03-04T06:40:24.419094Z"
    }
   },
   "outputs": [
    {
     "name": "stdout",
     "output_type": "stream",
     "text": [
      "False\n"
     ]
    }
   ],
   "source": [
    "import os\n",
    "print(os.path.exists('myfile.txt'))"
   ]
  },
  {
   "cell_type": "markdown",
   "id": "fed25bee",
   "metadata": {
    "slideshow": {
     "slide_type": "slide"
    }
   },
   "source": [
    "如果改成 Path 類別與其所提供的 exists() 方法即可判斷檔案是否存在。  \n",
    "整體而言，程式碼閱讀起來也更為簡潔易懂，更加物件導向。"
   ]
  },
  {
   "cell_type": "code",
   "execution_count": 5,
   "id": "1e38c460",
   "metadata": {
    "ExecuteTime": {
     "end_time": "2023-03-04T06:58:57.919949Z",
     "start_time": "2023-03-04T06:58:57.910422Z"
    }
   },
   "outputs": [
    {
     "data": {
      "text/plain": [
       "False"
      ]
     },
     "execution_count": 5,
     "metadata": {},
     "output_type": "execute_result"
    }
   ],
   "source": [
    "from pathlib import Path\n",
    "\n",
    "path = Path('myfile.txt')\n",
    "path.exists()"
   ]
  },
  {
   "cell_type": "markdown",
   "id": "e9176460",
   "metadata": {
    "slideshow": {
     "slide_type": "slide"
    }
   },
   "source": [
    "## 建立檔案\n",
    "利用touch建立檔案"
   ]
  },
  {
   "cell_type": "code",
   "execution_count": 9,
   "id": "958c398d",
   "metadata": {
    "ExecuteTime": {
     "end_time": "2023-03-04T07:05:54.863084Z",
     "start_time": "2023-03-04T07:05:54.850578Z"
    }
   },
   "outputs": [
    {
     "name": "stdout",
     "output_type": "stream",
     "text": [
      "file generation...\n"
     ]
    }
   ],
   "source": [
    "from pathlib import Path\n",
    "\n",
    "path = Path('myfile.txt')\n",
    "if path.exists():\n",
    "    print('file exists.')\n",
    "else:\n",
    "    path.touch()\n",
    "    print('file generation...')"
   ]
  },
  {
   "cell_type": "markdown",
   "id": "cdfac221",
   "metadata": {
    "slideshow": {
     "slide_type": "slide"
    }
   },
   "source": [
    "## 取得檔名 / 副檔名\n",
    "以往取得檔名、副檔名可以透過 os.path.basename() 與 os.path.splitext() 達成。"
   ]
  },
  {
   "cell_type": "code",
   "execution_count": 17,
   "id": "d736ecda",
   "metadata": {
    "ExecuteTime": {
     "end_time": "2023-03-04T07:12:11.052585Z",
     "start_time": "2023-03-04T07:12:11.043561Z"
    }
   },
   "outputs": [
    {
     "name": "stdout",
     "output_type": "stream",
     "text": [
      "using splitext:\n",
      "文件名： /path/to/file\n",
      "擴展名： .txt\n",
      "using os.path.basename: file.txt\n"
     ]
    }
   ],
   "source": [
    "import os\n",
    "# 路徑\n",
    "path = \"/path/to/file.txt\"\n",
    "\n",
    "# 分離文件名和擴展名\n",
    "name, ext = os.path.splitext(path)\n",
    "# 列印結果\n",
    "print('using splitext:')\n",
    "print(\"文件名：\", name)\n",
    "print(\"擴展名：\", ext)\n",
    "print('using os.path.basename:', os.path.basename(path))"
   ]
  },
  {
   "cell_type": "markdown",
   "id": "a1b8f875",
   "metadata": {
    "slideshow": {
     "slide_type": "subslide"
    }
   },
   "source": [
    "Path 提供 name 與 suffix 屬性能夠輕鬆取得檔名與副檔名"
   ]
  },
  {
   "cell_type": "code",
   "execution_count": 20,
   "id": "218789f8",
   "metadata": {
    "ExecuteTime": {
     "end_time": "2023-03-04T07:13:32.343638Z",
     "start_time": "2023-03-04T07:13:32.336608Z"
    }
   },
   "outputs": [
    {
     "name": "stdout",
     "output_type": "stream",
     "text": [
      "myfile.txt .txt\n"
     ]
    }
   ],
   "source": [
    "import pathlib\n",
    "path = pathlib.Path('myfile.txt')\n",
    "print(path.name, path.suffix)"
   ]
  },
  {
   "cell_type": "markdown",
   "id": "0f017448",
   "metadata": {
    "slideshow": {
     "slide_type": "slide"
    }
   },
   "source": [
    "## 寫入 / 讀取檔案\n",
    "path 類別也提供 write_text() , read_text() 等方法，讓開發者可以輕鬆地寫入、讀取檔案"
   ]
  },
  {
   "cell_type": "code",
   "execution_count": 26,
   "id": "570a55e2",
   "metadata": {
    "ExecuteTime": {
     "end_time": "2023-03-04T07:27:40.587212Z",
     "start_time": "2023-03-04T07:27:40.568066Z"
    }
   },
   "outputs": [
    {
     "data": {
      "text/plain": [
       "'world'"
      ]
     },
     "execution_count": 26,
     "metadata": {},
     "output_type": "execute_result"
    }
   ],
   "source": [
    "from pathlib import Path\n",
    "path = Path('myfile.txt')\n",
    "\n",
    "path.write_text('hello')\n",
    "path.write_text('world') \n",
    "\n",
    "path.read_text()"
   ]
  },
  {
   "cell_type": "markdown",
   "id": "7e5fd630",
   "metadata": {
    "ExecuteTime": {
     "end_time": "2023-03-04T07:29:35.924018Z",
     "start_time": "2023-03-04T07:29:35.911571Z"
    },
    "slideshow": {
     "slide_type": "slide"
    }
   },
   "source": [
    "## Wtih syntax\n",
    "同樣支援with語法"
   ]
  },
  {
   "cell_type": "code",
   "execution_count": 55,
   "id": "480f6fcc",
   "metadata": {
    "ExecuteTime": {
     "end_time": "2023-03-04T07:37:32.850992Z",
     "start_time": "2023-03-04T07:37:32.843462Z"
    }
   },
   "outputs": [
    {
     "name": "stdout",
     "output_type": "stream",
     "text": [
      "hello world.\n"
     ]
    }
   ],
   "source": [
    "from pathlib import Path\n",
    "path = Path('myfile.txt')\n",
    "with path.open('w') as f:\n",
    "    f.write('hello ')\n",
    "    f.write('world.')\n",
    "    \n",
    "with path.open() as f:\n",
    "    text = f.read()\n",
    "    \n",
    "print(text)\n",
    "    "
   ]
  },
  {
   "cell_type": "markdown",
   "id": "1bb66eba",
   "metadata": {
    "slideshow": {
     "slide_type": "slide"
    }
   },
   "source": [
    "## is_file / is_dir / is_symlink\n",
    "以往判斷路徑是否為檔案、資料夾、 symbol link 會使用os.path.is_file('file_name')等語法。  \n",
    "這些常用的方法也被整合至 Path 中：\n"
   ]
  },
  {
   "cell_type": "code",
   "execution_count": 59,
   "id": "3c100bdc",
   "metadata": {
    "ExecuteTime": {
     "end_time": "2023-03-04T07:41:17.135675Z",
     "start_time": "2023-03-04T07:41:17.127631Z"
    }
   },
   "outputs": [
    {
     "name": "stdout",
     "output_type": "stream",
     "text": [
      "True\n",
      "False\n",
      "False\n"
     ]
    }
   ],
   "source": [
    "from pathlib import Path\n",
    "\n",
    "path = Path('myfile.txt')\n",
    "\n",
    "path.touch()\n",
    "print(path.is_file())\n",
    "print(path.is_dir())\n",
    "print(path.is_symlink())"
   ]
  },
  {
   "cell_type": "markdown",
   "id": "540adf50",
   "metadata": {
    "slideshow": {
     "slide_type": "slide"
    }
   },
   "source": [
    "## 刪除檔案\n",
    "正因為 Path 類別整合各種與檔案、資料夾相關的操作，理想當然也能夠呼叫刪除檔案的方法  \n",
    "呼叫 unlink() 方法後，檔案就被刪除了"
   ]
  },
  {
   "cell_type": "code",
   "execution_count": 62,
   "id": "df183676",
   "metadata": {
    "ExecuteTime": {
     "end_time": "2023-03-04T07:48:13.380786Z",
     "start_time": "2023-03-04T07:48:13.370276Z"
    }
   },
   "outputs": [
    {
     "name": "stdout",
     "output_type": "stream",
     "text": [
      "True\n",
      "False\n"
     ]
    }
   ],
   "source": [
    "from pathlib import Path\n",
    "\n",
    "path = Path('myfile.txt')\n",
    "print(path.exists())\n",
    "\n",
    "path.unlink()\n",
    "print(path.exists())"
   ]
  },
  {
   "cell_type": "markdown",
   "id": "06167eaf",
   "metadata": {
    "slideshow": {
     "slide_type": "slide"
    }
   },
   "source": [
    "## 取得檔案大小 \n",
    "Path 類別也提供 stat() 方法讓開發者可以取得檔案詳細的資訊，例如經常會使用的檔案大小。"
   ]
  },
  {
   "cell_type": "code",
   "execution_count": 69,
   "id": "534649d6",
   "metadata": {
    "ExecuteTime": {
     "end_time": "2023-03-04T07:51:08.507930Z",
     "start_time": "2023-03-04T07:51:08.498336Z"
    }
   },
   "outputs": [
    {
     "name": "stdout",
     "output_type": "stream",
     "text": [
      "True\n",
      "os.stat_result(st_mode=33206, st_ino=3096224744025222, st_dev=1990216764, st_nlink=1, st_uid=0, st_gid=0, st_size=12, st_atime=1677916268, st_mtime=1677916268, st_ctime=1677916219)\n",
      "12\n"
     ]
    }
   ],
   "source": [
    "from pathlib import Path\n",
    "\n",
    "path = Path('myfile.txt')\n",
    "print(path.exists())\n",
    "path.write_text('hello world!')\n",
    "print(path.stat())\n",
    "print(path.stat().st_size) #檔案大小"
   ]
  },
  {
   "cell_type": "markdown",
   "id": "4716f99e",
   "metadata": {
    "slideshow": {
     "slide_type": "slide"
    }
   },
   "source": [
    "## 走訪資料夾內的所有檔案與資料夾 \n",
    "另一個經常會用到的需求就是走訪某資料夾內的所有檔案與資料夾，只要呼叫 iterdir() 即可："
   ]
  },
  {
   "cell_type": "code",
   "execution_count": 70,
   "id": "8fa99528",
   "metadata": {
    "ExecuteTime": {
     "end_time": "2023-03-04T07:52:29.150055Z",
     "start_time": "2023-03-04T07:52:29.133906Z"
    },
    "collapsed": true,
    "slideshow": {
     "slide_type": "-"
    }
   },
   "outputs": [
    {
     "ename": "FileNotFoundError",
     "evalue": "[WinError 3] 系統找不到指定的路徑。: '\\\\tmp'",
     "output_type": "error",
     "traceback": [
      "\u001b[1;31m---------------------------------------------------------------------------\u001b[0m",
      "\u001b[1;31mFileNotFoundError\u001b[0m                         Traceback (most recent call last)",
      "\u001b[1;32m~\\AppData\\Local\\Temp\\ipykernel_11820\\1092165482.py\u001b[0m in \u001b[0;36m<module>\u001b[1;34m\u001b[0m\n\u001b[1;32m----> 1\u001b[1;33m \u001b[1;32mfor\u001b[0m \u001b[0mx\u001b[0m \u001b[1;32min\u001b[0m \u001b[0mPath\u001b[0m\u001b[1;33m(\u001b[0m\u001b[1;34m'/tmp'\u001b[0m\u001b[1;33m)\u001b[0m\u001b[1;33m.\u001b[0m\u001b[0miterdir\u001b[0m\u001b[1;33m(\u001b[0m\u001b[1;33m)\u001b[0m\u001b[1;33m:\u001b[0m\u001b[1;33m\u001b[0m\u001b[1;33m\u001b[0m\u001b[0m\n\u001b[0m\u001b[0;32m      2\u001b[0m     \u001b[0mprint\u001b[0m\u001b[1;33m(\u001b[0m\u001b[0mtype\u001b[0m\u001b[1;33m(\u001b[0m\u001b[0mx\u001b[0m\u001b[1;33m)\u001b[0m\u001b[1;33m,\u001b[0m \u001b[0mx\u001b[0m\u001b[1;33m)\u001b[0m\u001b[1;33m\u001b[0m\u001b[1;33m\u001b[0m\u001b[0m\n",
      "\u001b[1;32m~\\anaconda3\\lib\\pathlib.py\u001b[0m in \u001b[0;36miterdir\u001b[1;34m(self)\u001b[0m\n\u001b[0;32m   1158\u001b[0m         \u001b[0mresult\u001b[0m \u001b[1;32mfor\u001b[0m \u001b[0mthe\u001b[0m \u001b[0mspecial\u001b[0m \u001b[0mpaths\u001b[0m \u001b[1;34m'.'\u001b[0m \u001b[1;32mand\u001b[0m \u001b[1;34m'..'\u001b[0m\u001b[1;33m.\u001b[0m\u001b[1;33m\u001b[0m\u001b[1;33m\u001b[0m\u001b[0m\n\u001b[0;32m   1159\u001b[0m         \"\"\"\n\u001b[1;32m-> 1160\u001b[1;33m         \u001b[1;32mfor\u001b[0m \u001b[0mname\u001b[0m \u001b[1;32min\u001b[0m \u001b[0mself\u001b[0m\u001b[1;33m.\u001b[0m\u001b[0m_accessor\u001b[0m\u001b[1;33m.\u001b[0m\u001b[0mlistdir\u001b[0m\u001b[1;33m(\u001b[0m\u001b[0mself\u001b[0m\u001b[1;33m)\u001b[0m\u001b[1;33m:\u001b[0m\u001b[1;33m\u001b[0m\u001b[1;33m\u001b[0m\u001b[0m\n\u001b[0m\u001b[0;32m   1161\u001b[0m             \u001b[1;32mif\u001b[0m \u001b[0mname\u001b[0m \u001b[1;32min\u001b[0m \u001b[1;33m{\u001b[0m\u001b[1;34m'.'\u001b[0m\u001b[1;33m,\u001b[0m \u001b[1;34m'..'\u001b[0m\u001b[1;33m}\u001b[0m\u001b[1;33m:\u001b[0m\u001b[1;33m\u001b[0m\u001b[1;33m\u001b[0m\u001b[0m\n\u001b[0;32m   1162\u001b[0m                 \u001b[1;31m# Yielding a path object for these makes little sense\u001b[0m\u001b[1;33m\u001b[0m\u001b[1;33m\u001b[0m\u001b[0m\n",
      "\u001b[1;31mFileNotFoundError\u001b[0m: [WinError 3] 系統找不到指定的路徑。: '\\\\tmp'"
     ]
    }
   ],
   "source": [
    "for x in Path('/tmp').iterdir():\n",
    "    print(type(x), x)"
   ]
  },
  {
   "cell_type": "markdown",
   "id": "0716b5bf",
   "metadata": {
    "slideshow": {
     "slide_type": "slide"
    }
   },
   "source": [
    "# Summary\n",
    "除了前述所提及的功能與範例之外， Path 類別其實還有相當多的便利功能可以使用，有興趣的話，不妨閱讀官方文件。\n",
    "另外，官方文件也整理出對照 Path 與 os 模組相關功能的對照表，可以參考 [Correspondence to tools in the os module](https://docs.python.org/3/library/pathlib.html#correspondence-to-tools-in-the-os-module) 一表。"
   ]
  }
 ],
 "metadata": {
  "celltoolbar": "Slideshow",
  "kernelspec": {
   "display_name": "Python 3 (ipykernel)",
   "language": "python",
   "name": "python3"
  },
  "language_info": {
   "codemirror_mode": {
    "name": "ipython",
    "version": 3
   },
   "file_extension": ".py",
   "mimetype": "text/x-python",
   "name": "python",
   "nbconvert_exporter": "python",
   "pygments_lexer": "ipython3",
   "version": "3.9.13"
  },
  "toc": {
   "base_numbering": 1,
   "nav_menu": {},
   "number_sections": true,
   "sideBar": true,
   "skip_h1_title": false,
   "title_cell": "Table of Contents",
   "title_sidebar": "Contents",
   "toc_cell": false,
   "toc_position": {},
   "toc_section_display": true,
   "toc_window_display": false
  },
  "varInspector": {
   "cols": {
    "lenName": 16,
    "lenType": 16,
    "lenVar": 40
   },
   "kernels_config": {
    "python": {
     "delete_cmd_postfix": "",
     "delete_cmd_prefix": "del ",
     "library": "var_list.py",
     "varRefreshCmd": "print(var_dic_list())"
    },
    "r": {
     "delete_cmd_postfix": ") ",
     "delete_cmd_prefix": "rm(",
     "library": "var_list.r",
     "varRefreshCmd": "cat(var_dic_list()) "
    }
   },
   "types_to_exclude": [
    "module",
    "function",
    "builtin_function_or_method",
    "instance",
    "_Feature"
   ],
   "window_display": false
  }
 },
 "nbformat": 4,
 "nbformat_minor": 5
}
