{
 "cells": [
  {
   "cell_type": "markdown",
   "id": "b4cf77f0",
   "metadata": {
    "slideshow": {
     "slide_type": "notes"
    }
   },
   "source": [
    "[![Binder](https://mybinder.org/badge_logo.svg)](https://mybinder.org/v2/gh/DHs-Huang/Python-code/HEAD?urlpath=tree)\n",
    "# Python-code\n",
    "Python重要觀念整理，包含物件導向、裝飾器等議題，方便複習以及銜接後續模組應用  \n",
    "也同時探討進階議題，包含各個Python版本更新的重要內容以及各種Pythonic的技巧等內容\n",
    "## 觀念整理\n",
    "### [物件導向 (Object Oriented Programming)觀念整理](OOP/OOP_concepts_Python.ipynb)\n",
    "* 繼承 (inheritance)\n",
    "* 封裝 (encapsulation)  \n",
    "  [OOP property uses for encapsulation](OOP/OOP_property.ipynb)\n",
    "* 多型 (polymorphism)\n",
    "* [Class methods介紹](OOP/OPP_class_methods.ipynb)\n",
    "\n",
    "### [裝飾器 (Decorator)觀念整理 (not yet)](Decorator.ipynb)\n",
    "\n",
    "## 進階議題 \n",
    "### [Python版本更新](Advanced-issues/Add_new_features.ipynb)\n",
    "* Python 3.5\n",
    "  * 矩陣乘法專用的運算符@\n",
    "  * 解構列表，\\**解構字典\n",
    "  * `typing model`用於註解參數與回傳型態 (此文檔於Python 3.8說明)\n",
    "* Python 3.6\n",
    "  * f-string (後續亦增加其他用法)\n",
    "  * async 和 await的協同生成器 (後續版本亦有更新)\n",
    "  * secrets module用於password等管理\n",
    "* Python 3.7\n",
    "  * 內建breakpoint\n",
    "  * 類型和註解\n",
    "  * dictionary保持插入順序\n",
    "  * `dataclass`\n",
    "* Python 3.8\n",
    "  * :=海象賦值 → (variable_name := expression)，用於if, while等協助減少呼叫asssignment的次數以及順暢邏輯\n",
    "  * 詳細定義位置參數以及關鍵字參數的區隔\n",
    "  * fstring可用=直接表示變數\n",
    "  * typing模組的改進:Python是動態類型語言，但可以通過typing模組添加類型提示，以便協力廠商工具驗證Python代碼。Python 3.8給typing添加了一些新元素，因此它能夠支援更健壯的檢查：\n",
    "    * final修飾器和Final類型標注表明，被修飾或被標注的物件在任何時候都不應該被重寫、繼承，也不能被重新賦值。\n",
    "    * Literal類型將運算式限定為特定的值或值的列表（不一定是同一個類型的值）。\n",
    "    * TypedDict可以用來創建字典，其特定鍵的值被限制在一個或多個類型上。注意這些限制僅用於編譯時確定值的合法性，而不能在運行時進行限制。\n",
    "* Python 3.9\n",
    "  * 字典更新和合併：|運算符用於合併字典，|= 運算符用於更新字典\n",
    "  * 最小公倍數 math.LCM* Python 3.9 將兩個新函數添加到 str 對象：\n",
    "  * 第一個函數用於刪除前綴：str.removeprefix(prefix); 第二個函數用於刪除後綴：str.removesuffix(suffix)\n",
    "  * 對異步編程（asyncio）和多進程庫進行了優化\n",
    "  * 增加randbytes\n",
    "截至(2023/02/04)anaconda尚未更新\n",
    "* Python 3.10\n",
    "  * switch case判斷式\n",
    "  * 顯示詳細的錯誤資訊\n",
    "  * Union可以用其他運算子代替\n",
    "  * 嚴謹的zip\n",
    "  * with語法可以一次開多個檔案\n",
    "* Python 3.11\n",
    "  * 比上一个版本快60% (The most important one)\n",
    "  * 改進的錯誤提示\n",
    "  * self也可以被類別提示 (from \\_\\_future\\_\\_ import annotations)\n",
    "  * Typedict in typing可建立非必要元素\n",
    "\n",
    "### Pythonic\n",
    "* [Underscore多種用法](Advanced-issues/Underline_illustration.ipynb)"
   ]
  },
  {
   "cell_type": "markdown",
   "id": "abcbea25",
   "metadata": {
    "ExecuteTime": {
     "end_time": "2023-02-13T02:59:47.066951Z",
     "start_time": "2023-02-13T02:59:47.048002Z"
    }
   },
   "source": [
    "# References\n",
    "* https://docs.python.org/3/\n",
    "* https://haosquare.com/\n",
    "* https://myapollo.com.tw/"
   ]
  }
 ],
 "metadata": {
  "celltoolbar": "Slideshow",
  "kernelspec": {
   "display_name": "Python 3 (ipykernel)",
   "language": "python",
   "name": "python3"
  },
  "language_info": {
   "codemirror_mode": {
    "name": "ipython",
    "version": 3
   },
   "file_extension": ".py",
   "mimetype": "text/x-python",
   "name": "python",
   "nbconvert_exporter": "python",
   "pygments_lexer": "ipython3",
   "version": "3.9.13"
  },
  "toc": {
   "base_numbering": 1,
   "nav_menu": {},
   "number_sections": true,
   "sideBar": true,
   "skip_h1_title": false,
   "title_cell": "Table of Contents",
   "title_sidebar": "Contents",
   "toc_cell": false,
   "toc_position": {},
   "toc_section_display": true,
   "toc_window_display": false
  },
  "varInspector": {
   "cols": {
    "lenName": 16,
    "lenType": 16,
    "lenVar": 40
   },
   "kernels_config": {
    "python": {
     "delete_cmd_postfix": "",
     "delete_cmd_prefix": "del ",
     "library": "var_list.py",
     "varRefreshCmd": "print(var_dic_list())"
    },
    "r": {
     "delete_cmd_postfix": ") ",
     "delete_cmd_prefix": "rm(",
     "library": "var_list.r",
     "varRefreshCmd": "cat(var_dic_list()) "
    }
   },
   "types_to_exclude": [
    "module",
    "function",
    "builtin_function_or_method",
    "instance",
    "_Feature"
   ],
   "window_display": false
  }
 },
 "nbformat": 4,
 "nbformat_minor": 5
}
